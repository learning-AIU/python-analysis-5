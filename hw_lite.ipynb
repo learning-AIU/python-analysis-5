{
  "nbformat": 4,
  "nbformat_minor": 0,
  "metadata": {
    "colab": {
      "provenance": []
    },
    "kernelspec": {
      "name": "python3",
      "display_name": "Python 3"
    },
    "language_info": {
      "name": "python"
    }
  },
  "cells": [
    {
      "cell_type": "markdown",
      "metadata": {
        "id": "6r4CRBMgqVFY"
      },
      "source": [
        "## Задание 1"
      ]
    },
    {
      "cell_type": "markdown",
      "metadata": {
        "id": "3-832GmjqVFY"
      },
      "source": [
        "Создайте папку `new_folder`.\n",
        "Скопируйте папку `sample_data` в папку `new_folder`.\n",
        "\n",
        "P.S. Для копирования файлов используется команда Linux `cp`. Для копирования директория необходимо дополнительно указать параметр `-R`."
      ]
    },
    {
      "cell_type": "code",
      "metadata": {
        "id": "ztf1A7hpqVFZ"
      },
      "source": [
        "# Ваш код\n"
      ],
      "execution_count": null,
      "outputs": []
    },
    {
      "cell_type": "markdown",
      "metadata": {
        "id": "FcH_wJvcqVFZ"
      },
      "source": [
        "## Задание 2\n"
      ]
    },
    {
      "cell_type": "markdown",
      "metadata": {
        "id": "WEYw7QXNqVFZ"
      },
      "source": [
        "\n",
        "Методами модуля ```os``` вывести содержание папки ```sample_data``` из папки `new_folder`.\n",
        "\n",
        "Вам может понадобиться функция os.llistdir()."
      ]
    },
    {
      "cell_type": "code",
      "metadata": {
        "id": "Mlf_FKRCqVFZ"
      },
      "source": [
        "# Ваш код\n"
      ],
      "execution_count": null,
      "outputs": []
    },
    {
      "cell_type": "markdown",
      "metadata": {
        "id": "AE2Xdyg6qVFa"
      },
      "source": [
        "## Задание 3"
      ]
    },
    {
      "cell_type": "markdown",
      "metadata": {
        "id": "C8AnlFVxqVFa"
      },
      "source": [
        "Создайте произвольный словарь из 10 элементов. Сохраните его в файл в формате ```.json```. Считайте данные из полученного файла в новый словарь и пересохраните его в формате ```.pickle```. Из вновь полученного файла считайте данные в новый словарь и сравните его с изначальным словарем.\n"
      ]
    },
    {
      "cell_type": "code",
      "metadata": {
        "id": "tPM6NmhWqVFa"
      },
      "source": [
        "# Ваш код\n"
      ],
      "execution_count": null,
      "outputs": []
    },
    {
      "cell_type": "markdown",
      "metadata": {
        "id": "PvyjzdTKqVFa"
      },
      "source": [
        "## Задание 4"
      ]
    },
    {
      "cell_type": "markdown",
      "metadata": {
        "id": "PiGXFKF4qVFb"
      },
      "source": [
        "Создайте текстовые файлы всех известных кодировок и сохраните их в папку `new_folder`. В качестве имени файла используйте название кодировки.\n",
        "\n",
        "Известные кодировки:\n",
        "- UTF-8\n",
        "- UTF-16\n",
        "- cp1251\n",
        "- ASCII"
      ]
    },
    {
      "cell_type": "code",
      "metadata": {
        "id": "lzbh61UDqVFb"
      },
      "source": [
        "# Ваш код\n"
      ],
      "execution_count": null,
      "outputs": []
    },
    {
      "cell_type": "markdown",
      "metadata": {
        "id": "hcJV_fstqVFb"
      },
      "source": [
        "## Задание 5"
      ]
    },
    {
      "cell_type": "markdown",
      "metadata": {
        "id": "BmN1kFsoqVFb"
      },
      "source": [
        "Выведите дату своего рождения.\n"
      ]
    },
    {
      "cell_type": "code",
      "metadata": {
        "id": "QuAFH8RhqVFc"
      },
      "source": [
        "# Ваш код\n"
      ],
      "execution_count": null,
      "outputs": []
    }
  ]
}