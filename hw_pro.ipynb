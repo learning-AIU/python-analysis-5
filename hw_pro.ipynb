{
 "cells": [
  {
   "cell_type": "markdown",
   "metadata": {
    "id": "6L0mh1SaqVdE"
   },
   "source": [
    "## Задание 1\n"
   ]
  },
  {
   "cell_type": "markdown",
   "metadata": {
    "id": "4OJuP-LXqVdF"
   },
   "source": [
    "1. Пройтись по всем подкаталогам из корневой папки.\n",
    "2. Считать имена файлов, их формат и размер.\n",
    "3. В каждом подкаталоге создать json-файл (`data.json`) с такой информацией:\n",
    " - Ключ - \"filename\". Данные - название файла без формата. \n",
    " - Ключ - \"file_format\". Данные - формат файла.\n",
    " - Ключ - \"size\". Данные - количество строк в файле.\n",
    "4. Вывести время выполнения кода."
   ]
  },
  {
   "cell_type": "code",
   "execution_count": 89,
   "metadata": {
    "id": "-DcvcyfVqVdF"
   },
   "outputs": [],
   "source": [
    "from json import load as jload, dump as jdump\n",
    "from pathlib import Path\n",
    "from pprint import pprint\n",
    "from sys import path\n",
    "from time import perf_counter as pc"
   ]
  },
  {
   "cell_type": "code",
   "execution_count": 75,
   "metadata": {},
   "outputs": [],
   "source": [
    "def frac_zeros(number: float, digits: int = 1):\n",
    "    fractional = number - int(number)\n",
    "    n = 1\n",
    "    while int(fractional*(10**n)) == 0:\n",
    "        n += 1\n",
    "    return n + digits - 1"
   ]
  },
  {
   "cell_type": "code",
   "execution_count": 98,
   "metadata": {},
   "outputs": [
    {
     "name": "stdout",
     "output_type": "stream",
     "text": [
      "Время выполнения кода: 0.028 с\n"
     ]
    }
   ],
   "source": [
    "start = pc()\n",
    "root = Path(path[0]).parents[-1]\n",
    "temp = Path(path[0]) / 'temp'\n",
    "temp.mkdir(exist_ok=True)\n",
    "results = {}\n",
    "for subdir in root.glob('*/'):\n",
    "    results[subdir.name] = [\n",
    "        {\n",
    "            'filename': file.stem,\n",
    "            'file_format': file.suffix[1:].upper(),\n",
    "            'size': file.stat().st_size,\n",
    "        }\n",
    "        for file in subdir.glob('*.*')\n",
    "    ]\n",
    "for subdir, data in results.items():\n",
    "    if data:\n",
    "        data_file = temp / f'{subdir.lower()}.data.json'\n",
    "        with open(data_file, 'w', encoding='utf-8') as file_out:\n",
    "            jdump(data, file_out, ensure_ascii=False, indent=2)\n",
    "end = pc()\n",
    "elapsed = end - start\n",
    "print(f'Время выполнения кода: {elapsed:.{frac_zeros(elapsed, 2)}f} с')"
   ]
  },
  {
   "cell_type": "markdown",
   "metadata": {
    "id": "MRB1Y8luFauZ"
   },
   "source": [
    "## Задание 2"
   ]
  },
  {
   "cell_type": "markdown",
   "metadata": {
    "id": "bUCmBH7SFqn5"
   },
   "source": [
    "Собрать код выше в единый файл с разрешением data.py\n",
    "\n",
    "P.S. Вам потребуется освежить знания в магических функциях (%%)."
   ]
  },
  {
   "cell_type": "code",
   "execution_count": null,
   "metadata": {
    "id": "KWsAob6uCigo"
   },
   "outputs": [],
   "source": [
    "# понятия не имею, что бы это задание могло значить, а временем на разгадывание не располагаю"
   ]
  },
  {
   "cell_type": "markdown",
   "metadata": {
    "id": "AwWikwFHFtSN"
   },
   "source": [
    "Удалить ранее созданый файл формата .json."
   ]
  },
  {
   "cell_type": "code",
   "execution_count": 101,
   "metadata": {
    "id": "z_WMU_yuEpCo"
   },
   "outputs": [],
   "source": [
    "for file in temp.glob('*.json'):\n",
    "    file.unlink(missing_ok=True)"
   ]
  },
  {
   "cell_type": "markdown",
   "metadata": {
    "id": "bL66MDahGEgw"
   },
   "source": [
    "Запустить его с помощью магической функции."
   ]
  },
  {
   "cell_type": "code",
   "execution_count": null,
   "metadata": {
    "id": "fful-RqIEl-B"
   },
   "outputs": [],
   "source": [
    "# кому-то явно необходимо потренироваться в формулировках заданий"
   ]
  },
  {
   "cell_type": "markdown",
   "metadata": {
    "id": "mvPj0hJrGX4u"
   },
   "source": [
    "## Задание 3"
   ]
  },
  {
   "cell_type": "markdown",
   "metadata": {
    "id": "ioSN0xKJGZdv"
   },
   "source": [
    "Методами библиотеки ```datetime``` найдите название дня недели, в который вы родились. Посчитайте также количество секунд, которые вы провели на этой планете до сегодяшнего дня.\n",
    "\n",
    "Пример ответа:  ```('monday',123213875)```"
   ]
  },
  {
   "cell_type": "code",
   "execution_count": 111,
   "metadata": {
    "id": "oe2vl17RGZCM"
   },
   "outputs": [
    {
     "name": "stdout",
     "output_type": "stream",
     "text": [
      "('wednesday', 959771737)\n"
     ]
    }
   ],
   "source": [
    "from datetime import datetime as dt\n",
    "\n",
    "birthdate = dt(1992, 10, 7, 1, 30)\n",
    "\n",
    "def weekday_seconds(datetime_obj: dt) -> tuple[str, int]:\n",
    "    return f'{datetime_obj:%A}'.lower(), int(dt.now().timestamp() - datetime_obj.timestamp())\n",
    "\n",
    "result = weekday_seconds(birthdate)\n",
    "print(result)\n",
    "\n",
    "result[1] / (3600*24*365"
   ]
  }
 ],
 "metadata": {
  "colab": {
   "provenance": []
  },
  "kernelspec": {
   "display_name": "Python 3 (ipykernel)",
   "language": "python",
   "name": "python3"
  },
  "language_info": {
   "codemirror_mode": {
    "name": "ipython",
    "version": 3
   },
   "file_extension": ".py",
   "mimetype": "text/x-python",
   "name": "python",
   "nbconvert_exporter": "python",
   "pygments_lexer": "ipython3",
   "version": "3.11.2"
  }
 },
 "nbformat": 4,
 "nbformat_minor": 1
}
