{
  "nbformat": 4,
  "nbformat_minor": 0,
  "metadata": {
    "colab": {
      "provenance": []
    },
    "kernelspec": {
      "name": "python3",
      "display_name": "Python 3"
    },
    "language_info": {
      "name": "python"
    }
  },
  "cells": [
    {
      "cell_type": "markdown",
      "metadata": {
        "id": "6L0mh1SaqVdE"
      },
      "source": [
        "## Задание 1\n"
      ]
    },
    {
      "cell_type": "markdown",
      "metadata": {
        "id": "4OJuP-LXqVdF"
      },
      "source": [
        "1. Пройтись по всем подкаталогам из корневой папки.\n",
        "2. Считать имена файлов, их формат и размер.\n",
        "3. В каждом подкаталоге создать json-файл (`data.json`) с такой информацией:\n",
        " - Ключ - \"filename\". Данные - название файла без формата. \n",
        " - Ключ - \"file_format\". Данные - формат файла.\n",
        " - Ключ - \"size\". Данные - количество строк в файле.\n",
        "4. Вывести время выполнения кода."
      ]
    },
    {
      "cell_type": "code",
      "metadata": {
        "id": "-DcvcyfVqVdF"
      },
      "source": [
        "# Ваш код\n"
      ],
      "execution_count": null,
      "outputs": []
    },
    {
      "cell_type": "markdown",
      "metadata": {
        "id": "MRB1Y8luFauZ"
      },
      "source": [
        "## Задание 2"
      ]
    },
    {
      "cell_type": "markdown",
      "metadata": {
        "id": "bUCmBH7SFqn5"
      },
      "source": [
        "Собрать код выше в единый файл с разрешением data.py\n",
        "\n",
        "P.S. Вам потребуется освежить знания в магических функциях (%%)."
      ]
    },
    {
      "cell_type": "code",
      "metadata": {
        "id": "KWsAob6uCigo"
      },
      "source": [
        "# Ваш код\n"
      ],
      "execution_count": null,
      "outputs": []
    },
    {
      "cell_type": "markdown",
      "metadata": {
        "id": "AwWikwFHFtSN"
      },
      "source": [
        "Удалить ранее созданый файл формата .json."
      ]
    },
    {
      "cell_type": "code",
      "metadata": {
        "id": "z_WMU_yuEpCo"
      },
      "source": [
        "# Ваш код\n"
      ],
      "execution_count": null,
      "outputs": []
    },
    {
      "cell_type": "markdown",
      "metadata": {
        "id": "bL66MDahGEgw"
      },
      "source": [
        "Запустить его с помощью магической функции."
      ]
    },
    {
      "cell_type": "code",
      "metadata": {
        "id": "fful-RqIEl-B"
      },
      "source": [
        "# Ваш код\n"
      ],
      "execution_count": null,
      "outputs": []
    },
    {
      "cell_type": "markdown",
      "metadata": {
        "id": "mvPj0hJrGX4u"
      },
      "source": [
        "## Задание 3"
      ]
    },
    {
      "cell_type": "markdown",
      "metadata": {
        "id": "ioSN0xKJGZdv"
      },
      "source": [
        "Методами библиотеки ```datetime``` найдите название дня недели, в который вы родились. Посчитайте также количество секунд, которые вы провели на этой планете до сегодяшнего дня.\n",
        "\n",
        "Пример ответа:  ```('monday',123213875)```"
      ]
    },
    {
      "cell_type": "code",
      "metadata": {
        "id": "oe2vl17RGZCM"
      },
      "source": [
        "# Ваш код\n"
      ],
      "execution_count": null,
      "outputs": []
    }
  ]
}