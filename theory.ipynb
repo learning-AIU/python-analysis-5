{
  "nbformat": 4,
  "nbformat_minor": 0,
  "metadata": {
    "colab": {
      "provenance": []
    },
    "kernelspec": {
      "name": "python3",
      "display_name": "Python 3"
    },
    "language_info": {
      "name": "python"
    }
  },
  "cells": [
    {
      "cell_type": "markdown",
      "metadata": {
        "id": "SxRUTxPaMb3a"
      },
      "source": [
        "# Приветствуем Вас на уроке \"Работа с командной строкой и файловой системой\"\n",
        "Сегодня мы узнаем:\n",
        "- Несколько простых команд\n",
        "- Более продвинутые функции\n",
        "- Как работать с файлами в Python\n"
      ]
    },
    {
      "cell_type": "markdown",
      "metadata": {
        "id": "dJcLUIrnN3NZ"
      },
      "source": [
        "# Команды Linux"
      ]
    },
    {
      "cell_type": "markdown",
      "metadata": {
        "id": "Wad8ciZ9QOhy"
      },
      "source": [
        "Для начала сделаем оговорку, что все команды мы будем запускать здесь, в Google Colaboratory, но их можно запускать и на Вашей локальной машине, если у Вас стоит операционная система Linux.\n",
        "\n",
        "Если же у Вас стоит Windows, то Вы можете установить себе виртуальную машину и на неё поставить нужную операционную систему.\n",
        "\n",
        "Подробное описание как это сделать есть, например, по данной ссылке - https://ustanovkaos.ru/ustanovka-neskolkix-os/ustanovka-virtualbox-na-windows-10.html."
      ]
    },
    {
      "cell_type": "markdown",
      "metadata": {
        "id": "cNCeUeEBRVoT"
      },
      "source": [
        "В этом ноутбуке показаны примеры использования команд операционной системы Linux для выполнения часто встречающихся задач анализа данных."
      ]
    },
    {
      "cell_type": "markdown",
      "metadata": {
        "id": "hUDOfytkRtlQ"
      },
      "source": [
        "Комады Linux в ноутбуках Colaboratory должны начинаться с восклицательного знака (!). По наличию восклицательного знака в начале строки определяется, что это не код Python, а команда операционной системы. \n",
        "\n",
        "Пример:"
      ]
    },
    {
      "cell_type": "code",
      "metadata": {
        "colab": {
          "base_uri": "https://localhost:8080/"
        },
        "id": "j0ZgB_lp6WJh",
        "outputId": "53d89fb6-9fd6-4b8e-deb9-273915cda937"
      },
      "source": [
        "!ls"
      ],
      "execution_count": null,
      "outputs": [
        {
          "output_type": "stream",
          "name": "stdout",
          "text": [
            "sample_data\n"
          ]
        }
      ]
    },
    {
      "cell_type": "markdown",
      "metadata": {
        "id": "wjcges1JU7Ji"
      },
      "source": [
        "С помощью команды `ls` мы вывели список файлов в директории, в которой мы сейчас находимся. В данном случае мы находимся в дректории, в которой лежит файл `sample_data`.\n",
        "\n",
        "На самом деле это не просто файл, а каталог, в котором лежат другие файлы. Мы также можем узнать, что лежит в данном каталоге с помощью команды `ls`, передав её в качесве аргумента азвание каталога `sample_data`.\n",
        "\n",
        "Проверим:\n"
      ]
    },
    {
      "cell_type": "code",
      "metadata": {
        "colab": {
          "base_uri": "https://localhost:8080/"
        },
        "id": "5XMBIu6hI0l1",
        "outputId": "46597f4c-d785-4786-ea75-3daadcddba05"
      },
      "source": [
        "!ls sample_data"
      ],
      "execution_count": null,
      "outputs": [
        {
          "output_type": "stream",
          "name": "stdout",
          "text": [
            "anscombe.json\t\t      mnist_test.csv\n",
            "california_housing_test.csv   mnist_train_small.csv\n",
            "california_housing_train.csv  README.md\n"
          ]
        }
      ]
    },
    {
      "cell_type": "markdown",
      "metadata": {
        "id": "aOpyO9r2agQk"
      },
      "source": [
        "Таким образом мы увидели все файлы в каталоге `sample_data`.\n"
      ]
    },
    {
      "cell_type": "markdown",
      "metadata": {
        "id": "BzxnFlIccrp2"
      },
      "source": [
        "Стоит упомянуть об ещё одной команде - `man`. \n",
        "\n",
        "Эта команда содержит в себе краткий мануал по другим командам.\n",
        "\n",
        "Например, выведем мануал нашей команды `ls`."
      ]
    },
    {
      "cell_type": "code",
      "metadata": {
        "colab": {
          "base_uri": "https://localhost:8080/"
        },
        "id": "lb0T9P4pLqHL",
        "outputId": "b92fde8a-9b23-4ce0-fdf8-4684b49c1a58"
      },
      "source": [
        "!man ls"
      ],
      "execution_count": null,
      "outputs": [
        {
          "output_type": "stream",
          "name": "stdout",
          "text": [
            "LS(1POSIX)                 POSIX Programmer's Manual                LS(1POSIX)\n",
            "\n",
            "P\bPR\bRO\bOL\bLO\bOG\bG\n",
            "       This  manual  page is part of the POSIX Programmer's Manual.  The Linux\n",
            "       implementation of this interface may differ (consult the  corresponding\n",
            "       Linux  manual page for details of Linux behavior), or the interface may\n",
            "       not be implemented on Linux.\n",
            "\n",
            "N\bNA\bAM\bME\bE\n",
            "       ls — list directory contents\n",
            "\n",
            "S\bSY\bYN\bNO\bOP\bPS\bSI\bIS\bS\n",
            "       ls [\b[−ikqrs]\b] [\b[−glno]\b] [\b[−A|−a]\b] [\b[−C|−m|−x|−1]\b] \\\n",
            "           [\b[−F|−p]\b] [\b[−H|−L]\b] [\b[−R|−d]\b] [\b[−S|−f|−t]\b] [\b[−c|−u]\b] [\b[_\bf_\bi_\bl_\be...]\b]\n",
            "\n",
            "D\bDE\bES\bSC\bCR\bRI\bIP\bPT\bTI\bIO\bON\bN\n",
            "       For each operand that names a file of a type other  than  directory  or\n",
            "       symbolic  link  to  a directory, _\bl_\bs shall write the name of the file as\n",
            "       well as any requested, associated information. For  each  operand  that\n",
            "       names  a file of type directory, _\bl_\bs shall write the names of files con‐\n",
            "       tained within the directory as well as any requested, associated infor‐\n",
            "       mation.  Filenames  beginning with a <period> ('\b'.\b.'\b')  and any associated\n",
            "       information shall not be written out unless explicitly referenced,  the\n",
            "       −\b−A\bA  or  −\b−a\ba  option  is supplied, or an implementation-defined condition\n",
            "       causes them to be written. If one or more of the −\b−d\bd, −\b−F\bF, or −\b−l\bl  options\n",
            "       are  specified,  and neither the −\b−H\bH nor the −\b−L\bL option is specified, for\n",
            "       each operand that names a file of type symbolic link to a directory, _\bl_\bs\n",
            "       shall  write  the name of the file as well as any requested, associated\n",
            "       information. If none of the −\b−d\bd, −\b−F\bF, or −\b−l\bl options are specified, or the\n",
            "       −\b−H\bH  or  −\b−L\bL options are specified, for each operand that names a file of\n",
            "       type symbolic link to a directory, _\bl_\bs shall write the  names  of  files\n",
            "       contained  within  the  directory  as well as any requested, associated\n",
            "       information. In each case where the names of files contained  within  a\n",
            "       directory  are  written,  if  the directory contains any symbolic links\n",
            "       then _\bl_\bs shall evaluate the file information and file type to  be  those\n",
            "       of the symbolic link itself, unless the −\b−L\bL option is specified.\n",
            "\n",
            "       If no operands are specified, _\bl_\bs shall behave as if a single operand of\n",
            "       dot ('\b'.\b.'\b')  had been specified. If more than one operand  is  specified,\n",
            "       _\bl_\bs  shall  write  non-directory operands first; it shall sort directory\n",
            "       and  non-directory  operands  separately  according  to  the  collating\n",
            "       sequence in the current locale.\n",
            "\n",
            "       The  _\bl_\bs utility shall detect infinite loops; that is, entering a previ‐\n",
            "       ously visited directory that is an ancestor of the  last  file  encoun‐\n",
            "       tered.   When  it detects an infinite loop, _\bl_\bs shall write a diagnostic\n",
            "       message to standard error and shall either recover its position in  the\n",
            "       hierarchy or terminate.\n",
            "\n",
            "O\bOP\bPT\bTI\bIO\bON\bNS\bS\n",
            "       The  _\bl_\bs  utility  shall  conform  to  the  Base  Definitions  volume of\n",
            "       POSIX.1‐2008, _\bS_\be_\bc_\bt_\bi_\bo_\bn _\b1_\b2_\b._\b2, _\bU_\bt_\bi_\bl_\bi_\bt_\by _\bS_\by_\bn_\bt_\ba_\bx _\bG_\bu_\bi_\bd_\be_\bl_\bi_\bn_\be_\bs.\n",
            "\n",
            "       The following options shall be supported:\n",
            "\n",
            "       −\b−A\bA        Write out all directory entries, including those whose  names\n",
            "                 begin  with  a  <period> ('\b'.\b.'\b')  but excluding the entries dot\n",
            "                 and dot-dot (if they exist).\n",
            "\n",
            "       −\b−C\bC        Write multi-text-column output with entries sorted  down  the\n",
            "                 columns,  according  to the collating sequence. The number of\n",
            "                 text columns and the column separator characters are unspeci‐\n",
            "                 fied,  but  should  be  adapted  to  the nature of the output\n",
            "                 device. This option disables long format output.\n",
            "\n",
            "       −\b−F\bF        Do not follow symbolic links named as operands unless the  −\b−H\bH\n",
            "                 or  −\b−L\bL  options  are specified. Write a <slash> ('\b'/\b/'\b') immedi‐\n",
            "                 ately after each pathname that is a directory, an  <asterisk>\n",
            "                 ('\b'*\b*'\b')  after each that is executable, a <vertical-line> ('\b'|\b|'\b')\n",
            "                 after each that is a FIFO, and an at-sign  ('\b'@\b@'\b')  after  each\n",
            "                 that  is a symbolic link. For other file types, other symbols\n",
            "                 may be written.\n",
            "\n",
            "       −\b−H\bH        Evaluate the file information  and  file  type  for  symbolic\n",
            "                 links  specified  on the command line to be those of the file\n",
            "                 referenced by the link, and not the link itself; however,  _\bl_\bs\n",
            "                 shall write the name of the link itself and not the file ref‐\n",
            "                 erenced by the link.\n",
            "\n",
            "       −\b−L\bL        Evaluate the file information and file type for all  symbolic\n",
            "                 links  (whether named on the command line or encountered in a\n",
            "                 file hierarchy) to be those of the  file  referenced  by  the\n",
            "                 link,  and  not  the link itself; however, _\bl_\bs shall write the\n",
            "                 name of the link itself and not the file  referenced  by  the\n",
            "                 link. When −\b−L\bL is used with −\b−l\bl, write the contents of symbolic\n",
            "                 links in the long format (see the STDOUT section).\n",
            "\n",
            "       −\b−R\bR        Recursively list subdirectories encountered. When a  symbolic\n",
            "                 link  to  a directory is encountered, the directory shall not\n",
            "                 be recursively listed unless the −\b−L\bL option is specified.  The\n",
            "                 use of −\b−R\bR with −\b−d\bd or −\b−f\bf produces unspecified results.\n",
            "\n",
            "       −\b−S\bS        Sort  with  the  primary  key  being file size (in decreasing\n",
            "                 order) and the secondary key being filename in the  collating\n",
            "                 sequence (in increasing order).\n",
            "\n",
            "       −\b−a\ba        Write  out all directory entries, including those whose names\n",
            "                 begin with a <period> ('\b'.\b.'\b').\n",
            "\n",
            "       −\b−c\bc        Use time of last modification of the file status  information\n",
            "                 (see   the   Base   Definitions   volume   of   POSIX.1‐2008,\n",
            "                 <\b<s\bsy\bys\bs_\b_s\bst\bta\bat\bt.\b.h\bh>\b>) instead of last modification of the file itself\n",
            "                 for sorting (−\b−t\bt) or writing (−\b−l\bl).\n",
            "\n",
            "       −\b−d\bd        Do  not follow symbolic links named as operands unless the −\b−H\bH\n",
            "                 or −\b−L\bL options are specified. Do not treat directories differ‐\n",
            "                 ently  than other types of files. The use of −\b−d\bd with −\b−R\bR or −\b−f\bf\n",
            "                 produces unspecified results.\n",
            "\n",
            "       −\b−f\bf        List the entries in directory  operands  in  the  order  they\n",
            "                 appear in the directory. The behavior for non-directory oper‐\n",
            "                 ands is unspecified. This option shall turn on −\b−a\ba.   When  −\b−f\bf\n",
            "                 is  specified,  any occurrences of the −\b−r\br, −\b−S\bS, and −\b−t\bt options\n",
            "                 shall be ignored and any occurrences of the −\b−A\bA, −\b−g\bg,  −\b−l\bl,  −\b−n\bn,\n",
            "                 −\b−o\bo,  and  −\b−s\bs options may be ignored. The use of −\b−f\bf with −\b−R\bR or\n",
            "                 −\b−d\bd produces unspecified results.\n",
            "\n",
            "       −\b−g\bg        Turn on the −\b−l\bl (ell) option, but disable writing  the  file's\n",
            "                 owner name or number.  Disable the −\b−C\bC, −\b−m\bm, and −\b−x\bx options.\n",
            "\n",
            "       −\b−i\bi        For  each  file,  write  the  file's  file serial number (see\n",
            "                 _\bs_\bt_\ba_\bt() in the System Interfaces volume of POSIX.1‐2008).\n",
            "\n",
            "       −\b−k\bk        Set the block size for the −\b−s\bs option  and  the  per-directory\n",
            "                 block  count  written  for the −\b−l\bl, −\b−n\bn, −\b−s\bs, −\b−g\bg, and −\b−o\bo options\n",
            "                 (see the STDOUT section) to 1024 bytes.\n",
            "\n",
            "       −\b−l\bl        (The letter ell.) Do not follow symbolic links named as oper‐\n",
            "                 ands  unless the −\b−H\bH or −\b−L\bL options are specified. Write out in\n",
            "                 long format (see the STDOUT section). Disable the −\b−C\bC, −\b−m\bm, and\n",
            "                 −\b−x\bx options.\n",
            "\n",
            "       −\b−m\bm        Stream  output  format; list pathnames across the page, sepa‐\n",
            "                 rated by a <comma> character followed by a <space> character.\n",
            "                 Use  a  <newline>  character as the list terminator and after\n",
            "                 the separator sequence when there is not room on a  line  for\n",
            "                 the next list entry. This option disables long format output.\n",
            "\n",
            "       −\b−n\bn        Turn  on  the  −\b−l\bl  (ell)  option, but when writing the file's\n",
            "                 owner or group, write the file's numeric UID  or  GID  rather\n",
            "                 than  the  user  or group name, respectively. Disable the −\b−C\bC,\n",
            "                 −\b−m\bm, and −\b−x\bx options.\n",
            "\n",
            "       −\b−o\bo        Turn on the −\b−l\bl (ell) option, but disable writing  the  file's\n",
            "                 group name or number.  Disable the −\b−C\bC, −\b−m\bm, and −\b−x\bx options.\n",
            "\n",
            "       −\b−p\bp        Write  a  <slash> ('\b'/\b/'\b') after each filename if that file is a\n",
            "                 directory.\n",
            "\n",
            "       −\b−q\bq        Force each instance of non-printable filename characters  and\n",
            "                 <tab>  characters  to be written as the <question-mark> ('\b'?\b?'\b')\n",
            "                 character. Implementations may provide this option by default\n",
            "                 if the output is to a terminal device.\n",
            "\n",
            "       −\b−r\br        Reverse  the  order  of  the  sort  to  get reverse collating\n",
            "                 sequence oldest first, or smallest file size first  depending\n",
            "                 on the other options given.\n",
            "\n",
            "       −\b−s\bs        Indicate  the  total number of file system blocks consumed by\n",
            "                 each file displayed. If the −\b−k\bk option is also specified,  the\n",
            "                 block  size shall be 1024 bytes; otherwise, the block size is\n",
            "                 implementation-defined.\n",
            "\n",
            "       −\b−t\bt        Sort with the primary key being time modified (most  recently\n",
            "                 modified  first)  and the secondary key being filename in the\n",
            "                 collating sequence.  For a symbolic link, the  time  used  as\n",
            "                 the  sort  key is that of the symbolic link itself, unless _\bl_\bs\n",
            "                 is evaluating its file information to be  that  of  the  file\n",
            "                 referenced by the link (see the −\b−H\bH and −\b−L\bL options).\n",
            "\n",
            "       −\b−u\bu        Use  time  of last access (see the Base Definitions volume of\n",
            "                 POSIX.1‐2008, <\b<s\bsy\bys\bs_\b_s\bst\bta\bat\bt.\b.h\bh>\b>) instead of last  modification  of\n",
            "                 the file for sorting (−\b−t\bt) or writing (−\b−l\bl).\n",
            "\n",
            "       −\b−x\bx        The  same  as −\b−C\bC, except that the multi-text-column output is\n",
            "                 produced with entries sorted across, rather  than  down,  the\n",
            "                 columns. This option disables long format output.\n",
            "\n",
            "       −\b−1\b1        (The  numeric  digit  one.)  Force output to be one entry per\n",
            "                 line.  This option does not disable long format output. (Long\n",
            "                 format  output  is  enabled  by −\b−g\bg, −\b−l\bl (ell), −\b−n\bn, and −\b−o\bo; and\n",
            "                 disabled by −\b−C\bC, −\b−m\bm, and −\b−x\bx.)\n",
            "\n",
            "       If an option that enables long format output (−\b−g\bg, −\b−l\bl (ell), −\b−n\bn, and  −\b−o\bo\n",
            "       is  given  with an option that disables long format output (−\b−C\bC, −\b−m\bm, and\n",
            "       −\b−x\bx), this shall not be considered an error. The last of  these  options\n",
            "       specified shall determine whether long format output is written.\n",
            "\n",
            "       If  −\b−R\bR,  −\b−d\bd, or −\b−f\bf are specified, the results of specifying these mutu‐\n",
            "       ally-exclusive options are  specified  by  the  descriptions  of  these\n",
            "       options  above.  If  more than one of any of the other options shown in\n",
            "       the SYNOPSIS section in mutually-exclusive sets are given,  this  shall\n",
            "       not be considered an error; the last option specified in each set shall\n",
            "       determine the output.\n",
            "\n",
            "       Note that if −\b−t\bt is specified, −\b−c\bc and −\b−u\bu are not only mutually-exclusive\n",
            "       with  each  other, they are also mutually-exclusive with −\b−S\bS when deter‐\n",
            "       mining sort order. But even if −\b−S\bS is specified after all occurrences of\n",
            "       −\b−c\bc,  −\b−t\bt,  and  −\b−u\bu,  the  last  use of −\b−c\bc or −\b−u\bu determines the timestamp\n",
            "       printed when producing long format output.\n",
            "\n",
            "O\bOP\bPE\bER\bRA\bAN\bND\bDS\bS\n",
            "       The following operand shall be supported:\n",
            "\n",
            "       _\bf_\bi_\bl_\be      A pathname of a file to be written. If the file specified  is\n",
            "                 not  found,  a diagnostic message shall be output on standard\n",
            "                 error.\n",
            "\n",
            "S\bST\bTD\bDI\bIN\bN\n",
            "       Not used.\n",
            "\n",
            "I\bIN\bNP\bPU\bUT\bT F\bFI\bIL\bLE\bES\bS\n",
            "       None.\n",
            "\n",
            "E\bEN\bNV\bVI\bIR\bRO\bON\bNM\bME\bEN\bNT\bT V\bVA\bAR\bRI\bIA\bAB\bBL\bLE\bES\bS\n",
            "       The following environment variables shall affect the execution of _\bl_\bs:\n",
            "\n",
            "       _\bC_\bO_\bL_\bU_\bM_\bN_\bS   Determine the user's  preferred  column  position  width  for\n",
            "                 writing  multiple  text-column  output. If this variable con‐\n",
            "                 tains a string representing a decimal integer, the _\bl_\bs utility\n",
            "                 shall  calculate how many pathname text columns to write (see\n",
            "                 −\b−C\bC) based on the width provided. If _\bC_\bO_\bL_\bU_\bM_\bN_\bS  is  not  set  or\n",
            "                 invalid, an implementation-defined number of column positions\n",
            "                 shall be assumed, based on the implementation's knowledge  of\n",
            "                 the output device. The column width chosen to write the names\n",
            "                 of files in any given directory shall be constant.  Filenames\n",
            "                 shall  not  be truncated to fit into the multiple text-column\n",
            "                 output.\n",
            "\n",
            "       _\bL_\bA_\bN_\bG      Provide a default value for  the  internationalization  vari‐\n",
            "                 ables  that are unset or null. (See the Base Definitions vol‐\n",
            "                 ume of POSIX.1‐2008, _\bS_\be_\bc_\bt_\bi_\bo_\bn _\b8_\b._\b2, _\bI_\bn_\bt_\be_\br_\bn_\ba_\bt_\bi_\bo_\bn_\ba_\bl_\bi_\bz_\ba_\bt_\bi_\bo_\bn  _\bV_\ba_\br_\bi_\b‐\n",
            "                 _\ba_\bb_\bl_\be_\bs  for  the  precedence of internationalization variables\n",
            "                 used to determine the values of locale categories.)\n",
            "\n",
            "       _\bL_\bC_\b__\bA_\bL_\bL    If set to a non-empty string value, override  the  values  of\n",
            "                 all the other internationalization variables.\n",
            "\n",
            "       _\bL_\bC_\b__\bC_\bO_\bL_\bL_\bA_\bT_\bE\n",
            "                 Determine  the  locale for character collation information in\n",
            "                 determining the pathname collation sequence.\n",
            "\n",
            "       _\bL_\bC_\b__\bC_\bT_\bY_\bP_\bE  Determine the locale for the interpretation of  sequences  of\n",
            "                 bytes of text data as characters (for example, single-byte as\n",
            "                 opposed to multi-byte  characters  in  arguments)  and  which\n",
            "                 characters are defined as printable (character class p\bpr\bri\bin\bnt\bt).\n",
            "\n",
            "       _\bL_\bC_\b__\bM_\bE_\bS_\bS_\bA_\bG_\bE_\bS\n",
            "                 Determine the locale that should be used to affect the format\n",
            "                 and contents  of  diagnostic  messages  written  to  standard\n",
            "                 error.\n",
            "\n",
            "       _\bL_\bC_\b__\bT_\bI_\bM_\bE   Determine  the  format and contents for date and time strings\n",
            "                 written by _\bl_\bs.\n",
            "\n",
            "       _\bN_\bL_\bS_\bP_\bA_\bT_\bH   Determine the location of message catalogs for the processing\n",
            "                 of _\bL_\bC_\b__\bM_\bE_\bS_\bS_\bA_\bG_\bE_\bS.\n",
            "\n",
            "       _\bT_\bZ        Determine  the  timezone for date and time strings written by\n",
            "                 _\bl_\bs.  If _\bT_\bZ is unset or null, an unspecified default  timezone\n",
            "                 shall be used.\n",
            "\n",
            "A\bAS\bSY\bYN\bNC\bCH\bHR\bRO\bON\bNO\bOU\bUS\bS E\bEV\bVE\bEN\bNT\bTS\bS\n",
            "       Default.\n",
            "\n",
            "S\bST\bTD\bDO\bOU\bUT\bT\n",
            "       The default format shall be to list one entry per line to standard out‐\n",
            "       put; the exceptions are to terminals or when one of the −\b−C\bC, −\b−m\bm,  or  −\b−x\bx\n",
            "       options  is  specified.  If  the output is to a terminal, the format is\n",
            "       implementation-defined.\n",
            "\n",
            "       When −\b−m\bm is specified, the format used for the last element of the  list\n",
            "       shall be:\n",
            "\n",
            "           \"\b\"%\b%s\bs\\\b\\n\bn\"\b\",\b, <\b<_\bf_\bi_\bl_\be_\bn_\ba_\bm_\be>\n",
            "\n",
            "       The format used for each other element of the list shall be:\n",
            "\n",
            "           \"\b\"%\b%s\bs,\b,%\b%s\bs\"\b\",\b, <\b<_\bf_\bi_\bl_\be_\bn_\ba_\bm_\be>, <_\bs_\be_\bp_\ba_\br_\ba_\bt_\bo_\br>\n",
            "\n",
            "       where,  if  there  is  not room for the next element of the list to fit\n",
            "       within the current line length, <_\bs_\be_\bp_\ba_\br_\ba_\bt_\bo_\br> is a string  containing  an\n",
            "       optional  <space> character and a mandatory <newline> character; other‐\n",
            "       wise it is a single <space> character.\n",
            "\n",
            "       If the −\b−i\bi option is specified, the file's file serial number  (see  the\n",
            "       Base Definitions volume of POSIX.1‐2008, <\b<s\bsy\bys\bs_\b_s\bst\bta\bat\bt.\b.h\bh>\b>) shall be written\n",
            "       in the following format before any other output for  the  corresponding\n",
            "       entry:\n",
            "\n",
            "           %\b%u\bu \"\b\",\b, <\b<_\bf_\bi_\bl_\be _\bs_\be_\br_\bi_\ba_\bl _\bn_\bu_\bm_\bb_\be_\br>\n",
            "\n",
            "       If the −\b−l\bl option is specified, the following information shall be writ‐\n",
            "       ten for files other than character special and block special files:\n",
            "\n",
            "           \"\b\"%\b%s\bs %\b%u\bu %\b%s\bs %\b%s\bs %\b%u\bu %\b%s\bs %\b%s\bs\\\b\\n\bn\"\b\",\b, <\b<_\bf_\bi_\bl_\be _\bm_\bo_\bd_\be>, <_\bn_\bu_\bm_\bb_\be_\br _\bo_\bf _\bl_\bi_\bn_\bk_\bs>,\n",
            "               <_\bo_\bw_\bn_\be_\br _\bn_\ba_\bm_\be>, <_\bg_\br_\bo_\bu_\bp _\bn_\ba_\bm_\be>, <_\bs_\bi_\bz_\be>, <_\bd_\ba_\bt_\be _\ba_\bn_\bd _\bt_\bi_\bm_\be>,\n",
            "               <_\bp_\ba_\bt_\bh_\bn_\ba_\bm_\be>\n",
            "\n",
            "       If the −\b−l\bl option is specified, the following information shall be writ‐\n",
            "       ten for character special and block special files:\n",
            "\n",
            "           \"\b\"%\b%s\bs %\b%u\bu %\b%s\bs %\b%s\bs %\b%s\bs %\b%s\bs %\b%s\bs\\\b\\n\bn\"\b\",\b, <\b<_\bf_\bi_\bl_\be _\bm_\bo_\bd_\be>, <_\bn_\bu_\bm_\bb_\be_\br _\bo_\bf _\bl_\bi_\bn_\bk_\bs>,\n",
            "               <_\bo_\bw_\bn_\be_\br _\bn_\ba_\bm_\be>, <_\bg_\br_\bo_\bu_\bp _\bn_\ba_\bm_\be>, <_\bd_\be_\bv_\bi_\bc_\be _\bi_\bn_\bf_\bo>, <_\bd_\ba_\bt_\be _\ba_\bn_\bd _\bt_\bi_\bm_\be>,\n",
            "               <_\bp_\ba_\bt_\bh_\bn_\ba_\bm_\be>\n",
            "\n",
            "       In  both cases if the file is a symbolic link and the −\b−L\bL option is also\n",
            "       specified, this information shall be for the  file  resolved  from  the\n",
            "       symbolic link, except that the <_\bp_\ba_\bt_\bh_\bn_\ba_\bm_\be> field shall contain the path‐\n",
            "       name of the symbolic link itself. If the file is a  symbolic  link  and\n",
            "       the  −\b−L\bL  option  is  not specified, this information shall be about the\n",
            "       link itself and the <_\bp_\ba_\bt_\bh_\bn_\ba_\bm_\be> field shall be of the form:\n",
            "\n",
            "           \"\b\"%\b%s\bs −\b−>\b> %\b%s\bs\"\b\",\b, <\b<_\bp_\ba_\bt_\bh_\bn_\ba_\bm_\be _\bo_\bf _\bl_\bi_\bn_\bk>, <_\bc_\bo_\bn_\bt_\be_\bn_\bt_\bs _\bo_\bf _\bl_\bi_\bn_\bk>\n",
            "\n",
            "       The −\b−n\bn, −\b−g\bg, and −\b−o\bo options use the same format as −\b−l\bl, but with  omitted\n",
            "       items and their associated <blank> characters. See the OPTIONS section.\n",
            "\n",
            "       In  both the preceding −\b−l\bl forms, if <_\bo_\bw_\bn_\be_\br _\bn_\ba_\bm_\be> or <_\bg_\br_\bo_\bu_\bp _\bn_\ba_\bm_\be> cannot\n",
            "       be determined, or if −\b−n\bn is given, they shall  be  replaced  with  their\n",
            "       associated numeric values using the format %\b%u\bu.\n",
            "\n",
            "       The <_\bs_\bi_\bz_\be> field shall contain the value that would be returned for the\n",
            "       file in the _\bs_\bt_\b__\bs_\bi_\bz_\be field of s\bst\btr\bru\buc\bct\bt s\bst\bta\bat\bt (see the Base Definitions vol‐\n",
            "       ume of POSIX.1‐2008, <\b<s\bsy\bys\bs_\b_s\bst\bta\bat\bt.\b.h\bh>\b>).  Note that for some file types this\n",
            "       value is unspecified.\n",
            "\n",
            "       The <_\bd_\be_\bv_\bi_\bc_\be _\bi_\bn_\bf_\bo> field shall contain  implementation-defined  informa‐\n",
            "       tion associated with the device in question.\n",
            "\n",
            "       The  <_\bd_\ba_\bt_\be _\ba_\bn_\bd _\bt_\bi_\bm_\be> field shall contain the appropriate date and time‐\n",
            "       stamp of when the file was last modified.  In  the  POSIX  locale,  the\n",
            "       field  shall be the equivalent of the output of the following _\bd_\ba_\bt_\be com‐\n",
            "       mand:\n",
            "\n",
            "           d\bda\bat\bte\be \"\b\"+\b+%\b%b\bb %\b%e\be %\b%H\bH:\b:%\b%M\bM\"\b\"\n",
            "\n",
            "       if the file has been modified in the last six months, or:\n",
            "\n",
            "           d\bda\bat\bte\be \"\b\"+\b+%\b%b\bb %\b%e\be %\b%Y\bY\"\b\"\n",
            "\n",
            "       (where two <space> characters are used between %\b%e\be and %\b%Y\bY) if  the  file\n",
            "       has  not  been  modified  in the last six months or if the modification\n",
            "       date is in the future, except that, in both cases, the final  <newline>\n",
            "       produced  by  _\bd_\ba_\bt_\be  shall not be included and the output shall be as if\n",
            "       the _\bd_\ba_\bt_\be command were executed at the time  of  the  last  modification\n",
            "       date  of the file rather than the current time. When the _\bL_\bC_\b__\bT_\bI_\bM_\bE locale\n",
            "       category is not set to the POSIX locale, a different format  and  order\n",
            "       of presentation of this field may be used.\n",
            "\n",
            "       If the pathname was specified as a _\bf_\bi_\bl_\be operand, it shall be written as\n",
            "       specified.\n",
            "\n",
            "       The file mode written under the −\b−l\bl, −\b−n\bn, −\b−g\bg, and −\b−o\bo options  shall  con‐\n",
            "       sist of the following format:\n",
            "\n",
            "           \"\b\"%\b%c\bc%\b%s\bs%\b%s\bs%\b%s\bs%\b%s\bs\"\b\",\b, <\b<_\be_\bn_\bt_\br_\by _\bt_\by_\bp_\be>, <_\bo_\bw_\bn_\be_\br _\bp_\be_\br_\bm_\bi_\bs_\bs_\bi_\bo_\bn_\bs>,\n",
            "               <_\bg_\br_\bo_\bu_\bp _\bp_\be_\br_\bm_\bi_\bs_\bs_\bi_\bo_\bn_\bs>, <_\bo_\bt_\bh_\be_\br _\bp_\be_\br_\bm_\bi_\bs_\bs_\bi_\bo_\bn_\bs>,\n",
            "               <_\bo_\bp_\bt_\bi_\bo_\bn_\ba_\bl _\ba_\bl_\bt_\be_\br_\bn_\ba_\bt_\be _\ba_\bc_\bc_\be_\bs_\bs _\bm_\be_\bt_\bh_\bo_\bd _\bf_\bl_\ba_\bg>\n",
            "\n",
            "       The  <_\bo_\bp_\bt_\bi_\bo_\bn_\ba_\bl _\ba_\bl_\bt_\be_\br_\bn_\ba_\bt_\be _\ba_\bc_\bc_\be_\bs_\bs _\bm_\be_\bt_\bh_\bo_\bd _\bf_\bl_\ba_\bg>  shall be the empty string\n",
            "       if there is no alternate or additional access control method associated\n",
            "       with  the  file;  otherwise,  it  shall be a string containing a single\n",
            "       printable character that is not a <blank>.\n",
            "\n",
            "       The <_\be_\bn_\bt_\br_\by _\bt_\by_\bp_\be> character shall describe the type of file, as follows:\n",
            "\n",
            "       d       Directory.\n",
            "\n",
            "       b       Block special file.\n",
            "\n",
            "       c       Character special file.\n",
            "\n",
            "       l (ell) Symbolic link.\n",
            "\n",
            "       p       FIFO.\n",
            "\n",
            "       −       Regular file.\n",
            "\n",
            "       Implementations may add other characters  to  this  list  to  represent\n",
            "       other implementation-defined file types.\n",
            "\n",
            "       The next three fields shall be three characters each:\n",
            "\n",
            "       <_\bo_\bw_\bn_\be_\br _\bp_\be_\br_\bm_\bi_\bs_\bs_\bi_\bo_\bn_\bs>\n",
            "             Permissions  for  the  file owner class (see the Base Definitions\n",
            "             volume of POSIX.1‐2008, _\bS_\be_\bc_\bt_\bi_\bo_\bn _\b4_\b._\b4, _\bF_\bi_\bl_\be _\bA_\bc_\bc_\be_\bs_\bs _\bP_\be_\br_\bm_\bi_\bs_\bs_\bi_\bo_\bn_\bs).\n",
            "\n",
            "       <_\bg_\br_\bo_\bu_\bp _\bp_\be_\br_\bm_\bi_\bs_\bs_\bi_\bo_\bn_\bs>\n",
            "             Permissions for the file group class.\n",
            "\n",
            "       <_\bo_\bt_\bh_\be_\br _\bp_\be_\br_\bm_\bi_\bs_\bs_\bi_\bo_\bn_\bs>\n",
            "             Permissions for the file other class.\n",
            "\n",
            "       Each field shall have three character positions:\n",
            "\n",
            "        1. If '\b'r\br'\b', the file is readable; if '\b'−\b−'\b', the file is not readable.\n",
            "\n",
            "        2. If '\b'w\bw'\b', the file is writable; if '\b'−\b−'\b', the file is not writable.\n",
            "\n",
            "        3. The first of the following that applies:\n",
            "\n",
            "           S     If in <_\bo_\bw_\bn_\be_\br _\bp_\be_\br_\bm_\bi_\bs_\bs_\bi_\bo_\bn_\bs>, the file  is  not  executable  and\n",
            "                 set-user-ID  mode is set. If in <_\bg_\br_\bo_\bu_\bp _\bp_\be_\br_\bm_\bi_\bs_\bs_\bi_\bo_\bn_\bs>, the file\n",
            "                 is not executable and set-group-ID mode is set.\n",
            "\n",
            "           s     If in <_\bo_\bw_\bn_\be_\br _\bp_\be_\br_\bm_\bi_\bs_\bs_\bi_\bo_\bn_\bs>, the file is  executable  and  set-\n",
            "                 user-ID  mode  is set. If in <_\bg_\br_\bo_\bu_\bp _\bp_\be_\br_\bm_\bi_\bs_\bs_\bi_\bo_\bn_\bs>, the file is\n",
            "                 executable and set-group-ID mode is set.\n",
            "\n",
            "           T     If in <_\bo_\bt_\bh_\be_\br _\bp_\be_\br_\bm_\bi_\bs_\bs_\bi_\bo_\bn_\bs> and the file is a directory, search\n",
            "                 permission is not granted to others, and the restricted dele‐\n",
            "                 tion flag is set.\n",
            "\n",
            "           t     If in <_\bo_\bt_\bh_\be_\br _\bp_\be_\br_\bm_\bi_\bs_\bs_\bi_\bo_\bn_\bs> and the file is a directory, search\n",
            "                 permission  is granted to others, and the restricted deletion\n",
            "                 flag is set.\n",
            "\n",
            "           x     The file is executable or the directory is searchable.\n",
            "\n",
            "           −     None of the attributes of '\b'S\bS'\b', '\b's\bs'\b', '\b'T\bT'\b', '\b't\bt'\b', or '\b'x\bx'\b' applies.\n",
            "\n",
            "           Implementations may add other characters to this list for the third\n",
            "           character  position.  Such  additions shall, however, be written in\n",
            "           lowercase if the file is executable or searchable, and in uppercase\n",
            "           if it is not.\n",
            "\n",
            "       If  any of the −\b−l\bl, −\b−n\bn, −\b−s\bs, −\b−g\bg, or −\b−o\bo options is specified, each list of\n",
            "       files within the directory shall be preceded by a status line  indicat‐\n",
            "       ing the number of file system blocks occupied by files in the directory\n",
            "       in 512-byte units if the −\b−k\bk option is not specified, or 1024-byte units\n",
            "       if  the  −\b−k\bk option is specified, rounded up to the next integral number\n",
            "       of units, if necessary. In the POSIX locale, the format shall be:\n",
            "\n",
            "           \"\b\"t\bto\bot\bta\bal\bl %\b%u\bu\\\b\\n\bn\"\b\",\b, <\b<_\bn_\bu_\bm_\bb_\be_\br _\bo_\bf _\bu_\bn_\bi_\bt_\bs _\bi_\bn _\bt_\bh_\be _\bd_\bi_\br_\be_\bc_\bt_\bo_\br_\by>\n",
            "\n",
            "       If more than one directory, or a combination of non-directory files and\n",
            "       directories  are written, either as a result of specifying multiple op‐\n",
            "       erands, or the −\b−R\bR option, each list of files within a  directory  shall\n",
            "       be preceded by:\n",
            "\n",
            "           \"\b\"\\\b\\n\bn%\b%s\bs:\b:\\\b\\n\bn\"\b\",\b, <\b<_\bd_\bi_\br_\be_\bc_\bt_\bo_\br_\by _\bn_\ba_\bm_\be>\n",
            "\n",
            "       If  this  string  is the first thing to be written, the first <newline>\n",
            "       shall not be written. This output shall precede the number of units  in\n",
            "       the directory.\n",
            "\n",
            "       If  the  −\b−s\bs option is given, each file shall be written with the number\n",
            "       of blocks used by the file. Along with −\b−C\bC, −\b−1\b1, −\b−m\bm, or  −\b−x\bx,  the  number\n",
            "       and  a <space> shall precede the filename; with −\b−l\bl, −\b−n\bn, −\b−g\bg, or −\b−o\bo, they\n",
            "       shall precede each line describing a file.\n",
            "\n",
            "S\bST\bTD\bDE\bER\bRR\bR\n",
            "       The standard error shall be used only for diagnostic messages.\n",
            "\n",
            "O\bOU\bUT\bTP\bPU\bUT\bT F\bFI\bIL\bLE\bES\bS\n",
            "       None.\n",
            "\n",
            "E\bEX\bXT\bTE\bEN\bND\bDE\bED\bD D\bDE\bES\bSC\bCR\bRI\bIP\bPT\bTI\bIO\bON\bN\n",
            "       None.\n",
            "\n",
            "E\bEX\bXI\bIT\bT S\bST\bTA\bAT\bTU\bUS\bS\n",
            "       The following exit values shall be returned:\n",
            "\n",
            "        0    Successful completion.\n",
            "\n",
            "       >0    An error occurred.\n",
            "\n",
            "C\bCO\bON\bNS\bSE\bEQ\bQU\bUE\bEN\bNC\bCE\bES\bS O\bOF\bF E\bER\bRR\bRO\bOR\bRS\bS\n",
            "       Default.\n",
            "\n",
            "       _\bT_\bh_\be _\bf_\bo_\bl_\bl_\bo_\bw_\bi_\bn_\bg _\bs_\be_\bc_\bt_\bi_\bo_\bn_\bs _\ba_\br_\be _\bi_\bn_\bf_\bo_\br_\bm_\ba_\bt_\bi_\bv_\be_\b.\n",
            "\n",
            "A\bAP\bPP\bPL\bLI\bIC\bCA\bAT\bTI\bIO\bON\bN U\bUS\bSA\bAG\bGE\bE\n",
            "       Many implementations use the  <equals-sign>  ('\b'=\b='\b')  to  denote  sockets\n",
            "       bound  to the file system for the −\b−F\bF option. Similarly, many historical\n",
            "       implementations use the '\b's\bs'\b' character to denote sockets  as  the  entry\n",
            "       type characters for the −\b−l\bl option.\n",
            "\n",
            "       It  is difficult for an application to use every part of the file modes\n",
            "       field of _\bl_\bs −\b−l\bl in a portable manner. Certain file types and  executable\n",
            "       bits  are not guaranteed to be exactly as shown, as implementations may\n",
            "       have extensions. Applications can use this field to pass directly to  a\n",
            "       user  printout or prompt, but actions based on its contents should gen‐\n",
            "       erally be deferred, instead, to the _\bt_\be_\bs_\bt utility.\n",
            "\n",
            "       The output of _\bl_\bs (with the −\b−l\bl and related options) contains information\n",
            "       that  logically  could  be used by utilities such as _\bc_\bh_\bm_\bo_\bd and _\bt_\bo_\bu_\bc_\bh to\n",
            "       restore files to a known state. However, this information is  presented\n",
            "       in  a format that cannot be used directly by those utilities or be eas‐\n",
            "       ily translated into a format that can be used.  A  character  has  been\n",
            "       added  to  the  end  of  the permissions string so that applications at\n",
            "       least have an indication that they may be working in an  area  they  do\n",
            "       not  understand instead of assuming that they can translate the permis‐\n",
            "       sions string into something  that  can  be  used.  Future  versions  or\n",
            "       related documents may define one or more specific characters to be used\n",
            "       based on different standard additional or  alternative  access  control\n",
            "       mechanisms.\n",
            "\n",
            "       As  with  many of the utilities that deal with filenames, the output of\n",
            "       _\bl_\bs for multiple files or in one of the long  listing  formats  must  be\n",
            "       used  carefully  on  systems where filenames can contain embedded white\n",
            "       space. Systems and system administrators should institute policies  and\n",
            "       user training to limit the use of such filenames.\n",
            "\n",
            "       The  number  of disk blocks occupied by the file that it reports varies\n",
            "       depending on underlying file system type, block  size  units  reported,\n",
            "       and the method of calculating the number of blocks. On some file system\n",
            "       types, the number is the actual number of blocks occupied by  the  file\n",
            "       (counting indirect blocks and ignoring holes in the file); on others it\n",
            "       is calculated based on the file size (usually making an  allowance  for\n",
            "       indirect blocks, but ignoring holes).\n",
            "\n",
            "E\bEX\bXA\bAM\bMP\bPL\bLE\bES\bS\n",
            "       An example of a small directory tree being fully listed with _\bl_\bs −\b−l\bla\baR\bRF\bF a\ba\n",
            "       in the POSIX locale:\n",
            "\n",
            "           t\bto\bot\bta\bal\bl 1\b11\b1\n",
            "           d\bdr\brw\bwx\bxr\br-\b-x\bxr\br-\b-x\bx   3\b3 f\bfo\box\bx      p\bpr\bro\bog\bg          6\b64\b4 J\bJu\bul\bl  4\b4 1\b12\b2:\b:0\b07\b7 .\b./\b/\n",
            "           d\bdr\brw\bwx\bxr\brw\bwx\bxr\brw\bwx\bx   4\b4 f\bfo\box\bx      p\bpr\bro\bog\bg        3\b32\b26\b64\b4 J\bJu\bul\bl  4\b4 1\b12\b2:\b:0\b09\b9 .\b..\b./\b/\n",
            "           d\bdr\brw\bwx\bxr\br-\b-x\bxr\br-\b-x\bx   2\b2 f\bfo\box\bx      p\bpr\bro\bog\bg          4\b48\b8 J\bJu\bul\bl  4\b4 1\b12\b2:\b:0\b07\b7 b\bb/\b/\n",
            "           -\b-r\brw\bwx\bxr\br-\b--\b-r\br-\b--\b-   1\b1 f\bfo\box\bx      p\bpr\bro\bog\bg         5\b57\b72\b2 J\bJu\bul\bl  4\b4 1\b12\b2:\b:0\b07\b7 f\bfo\boo\bo*\b*\n",
            "\n",
            "           a/b:\n",
            "           total 4\n",
            "           drwxr-xr-x   2 fox      prog          48 Jul  4 12:07 ./\n",
            "           drwxr-xr-x   3 fox      prog          64 Jul  4 12:07 ../\n",
            "           -rw-r--r--   1 fox      prog         700 Jul  4 12:07 bar\n",
            "\n",
            "R\bRA\bAT\bTI\bIO\bON\bNA\bAL\bLE\bE\n",
            "       Some historical implementations of the _\bl_\bs utility show all entries in a\n",
            "       directory  except  dot  and dot-dot when a superuser invokes _\bl_\bs without\n",
            "       specifying the −\b−a\ba option. When ``normal'' users invoke _\bl_\bs without spec‐\n",
            "       ifying  −\b−a\ba,  they should not see information about any files with names\n",
            "       beginning with a <period> unless they were named as _\bf_\bi_\bl_\be operands.\n",
            "\n",
            "       Implementations are expected to traverse arbitrary depths when process‐\n",
            "       ing the −\b−R\bR option. The only limitation on depth should be based on run‐\n",
            "       ning out of physical storage for keeping track of untraversed  directo‐\n",
            "       ries.\n",
            "\n",
            "       The  −\b−1\b1  (one)  option  was  historically  found in BSD and BSD-derived\n",
            "       implementations only. It is required in this volume of POSIX.1‐2008  so\n",
            "       that  conforming applications might ensure that output is one entry per\n",
            "       line, even if the output is to a terminal.\n",
            "\n",
            "       The −\b−S\bS option was added in Issue 7, but had been  provided  by  several\n",
            "       implementations  for  many years. The description given in the standard\n",
            "       documents historic practice, but does not match much of the  documenta‐\n",
            "       tion  that  described  its behavior. Historical documentation typically\n",
            "       described it as something like:\n",
            "\n",
            "       −\b−S\bS        Sort by size (largest size first) instead of by name. Special\n",
            "                 character devices (listed last) are sorted by name.\n",
            "\n",
            "       even though the file type was never considered when sorting the output.\n",
            "       Character special files do typically sort close to the end of the  list\n",
            "       because  their  file size on most implementations is zero. But they are\n",
            "       sorted alphabetically with any other files that happen to have the same\n",
            "       file size (zero), not sorted separately and added to the end.\n",
            "\n",
            "       This  volume  of  POSIX.1‐2008  is frequently silent about what happens\n",
            "       when mutually-exclusive options are specified. Except for −\b−R\bR,  −\b−d\bd,  and\n",
            "       −\b−f\bf,  the  _\bl_\bs  utility  is required to accept multiple options from each\n",
            "       mutually-exclusive option set without treating them as  errors  and  to\n",
            "       use  the  behavior specified by the last option given in each mutually-\n",
            "       exclusive set. Since _\bl_\bs is one of the  most  aliased  commands,  it  is\n",
            "       important  that the implementation perform intuitively. For example, if\n",
            "       the alias were:\n",
            "\n",
            "           a\bal\bli\bia\bas\bs l\bls\bs=\b=\"\b\"l\bls\bs −\b−C\bC\"\b\"\n",
            "\n",
            "       and the user  typed  _\bl_\bs  −\b−1\b1  (one),  single-text-column  output  should\n",
            "       result, not an error.\n",
            "\n",
            "       The  −\b−g\bg,  −\b−l\bl  (ell),  −\b−n\bn,  and  −\b−o\bo  options  are not mutually-exclusive\n",
            "       options. They all enable long format  output.  They  work  together  to\n",
            "       determine  whether  the  file's owner is written (no if −\b−g\bg is present),\n",
            "       file's group is written (no if −\b−o\bo is present), and if the file's  group\n",
            "       or  owner  is  written whether it is written as the name (default) or a\n",
            "       string representation of the UID or GID number (if −\b−n\bn is present).  The\n",
            "       −\b−C\bC,  −\b−m\bm,  −\b−x\bx, and −\b−1\b1 (one) are mutually-exclusive options and the first\n",
            "       three of these disable long format output. The −\b−1\b1 (one) option does not\n",
            "       directly  change  whether  or not long format output is enabled, but by\n",
            "       overriding −\b−C\bC, −\b−m\bm, and −\b−x\bx, it can re-enable long format output that had\n",
            "       been disabled by one of these options.\n",
            "\n",
            "       Earlier  versions  of  this standard did not describe the BSD −\b−A\bA option\n",
            "       (like −\b−a\ba, but dot and dot-dot are not written out). It has  been  added\n",
            "       due to widespread implementation.\n",
            "\n",
            "       Implementations may make −\b−q\bq the default for terminals to prevent trojan\n",
            "       horse attacks on terminals with special escape sequences.  This is  not\n",
            "       required because:\n",
            "\n",
            "        *  Some  control characters may be useful on some terminals; for exam‐\n",
            "           ple, a system might write them as \"\b\"\\\b\\0\b00\b01\b1\"\b\" or \"\b\"^\b^A\bA\"\b\".\n",
            "\n",
            "        *  Special behavior for terminals  is  not  relevant  to  applications\n",
            "           portability.\n",
            "\n",
            "       An    early    proposal    specified    that    the    <_\bo_\bp_\bt_\bi_\bo_\bn_\ba_\bl _\ba_\bl_\bt_\be_\br_\b‐\n",
            "       _\bn_\ba_\bt_\be _\ba_\bc_\bc_\be_\bs_\bs _\bm_\be_\bt_\bh_\bo_\bd _\bf_\bl_\ba_\bg> had to be '\b'+\b+'\b' if there was an alternate access\n",
            "       method  used  on the file or <space> if there was not. This was changed\n",
            "       to be <space> if there is not and a single printable character if there\n",
            "       is. This was done for three reasons:\n",
            "\n",
            "        1. There  are  historical  implementations using characters other than\n",
            "           '\b'+\b+'\b'.\n",
            "\n",
            "        2. There are implementations that vary this  character  used  in  that\n",
            "           position to distinguish between various alternate access methods in\n",
            "           use.\n",
            "\n",
            "        3. The standard developers did not want to preclude future  specifica‐\n",
            "           tions  that  might  need  a  way to specify more than one alternate\n",
            "           access method.\n",
            "\n",
            "       Nonetheless, implementations providing a single alternate access method\n",
            "       are encouraged to use '\b'+\b+'\b'.\n",
            "\n",
            "       Earlier  versions  of  this  standard did not have the −\b−k\bk option, which\n",
            "       meant that the −\b−s\bs option could not be used portably as its  block  size\n",
            "       was implementation-defined, and the units used to specify the number of\n",
            "       blocks occupied by files in a directory in an _\bl_\bs −\b−l\bl listing were  fixed\n",
            "       as  512-byte  units.  The −\b−k\bk option has been added to provide a way for\n",
            "       the −\b−s\bs option to be used portably, and for consistency it also  changes\n",
            "       the aforementioned units from 512-byte to 1024-byte.\n",
            "\n",
            "       The  <_\bd_\ba_\bt_\be _\ba_\bn_\bd _\bt_\bi_\bm_\be>  field  in the −\b−l\bl format is specified only for the\n",
            "       POSIX locale. As noted, the format can be different in  other  locales.\n",
            "       No   mechanism   for  defining  this  is  present  in  this  volume  of\n",
            "       POSIX.1‐2008, as the appropriate vehicle is a  messaging  system;  that\n",
            "       is, the format should be specified as a ``message''.\n",
            "\n",
            "F\bFU\bUT\bTU\bUR\bRE\bE D\bDI\bIR\bRE\bEC\bCT\bTI\bIO\bON\bNS\bS\n",
            "       Allowing  −\b−f\bf  to  ignore  the −\b−A\bA, −\b−g\bg, −\b−l\bl, −\b−n\bn, −\b−o\bo, and −\b−s\bs options may be\n",
            "       removed in a future version.\n",
            "\n",
            "S\bSE\bEE\bE A\bAL\bLS\bSO\bO\n",
            "       _\bc_\bh_\bm_\bo_\bd, _\bf_\bi_\bn_\bd\n",
            "\n",
            "       The Base Definitions volume of POSIX.1‐2008, _\bS_\be_\bc_\bt_\bi_\bo_\bn _\b4_\b._\b4,  _\bF_\bi_\bl_\be  _\bA_\bc_\bc_\be_\bs_\bs\n",
            "       _\bP_\be_\br_\bm_\bi_\bs_\bs_\bi_\bo_\bn_\bs,  _\bC_\bh_\ba_\bp_\bt_\be_\br  _\b8,  _\bE_\bn_\bv_\bi_\br_\bo_\bn_\bm_\be_\bn_\bt _\bV_\ba_\br_\bi_\ba_\bb_\bl_\be_\bs, _\bS_\be_\bc_\bt_\bi_\bo_\bn _\b1_\b2_\b._\b2, _\bU_\bt_\bi_\bl_\bi_\bt_\by\n",
            "       _\bS_\by_\bn_\bt_\ba_\bx _\bG_\bu_\bi_\bd_\be_\bl_\bi_\bn_\be_\bs, <\b<s\bsy\bys\bs_\b_s\bst\bta\bat\bt.\b.h\bh>\b>\n",
            "\n",
            "       The System Interfaces volume of POSIX.1‐2008, _\bf_\bs_\bt_\ba_\bt_\ba_\bt()\n",
            "\n",
            "C\bCO\bOP\bPY\bYR\bRI\bIG\bGH\bHT\bT\n",
            "       Portions of this text are reprinted and reproduced in  electronic  form\n",
            "       from IEEE Std 1003.1, 2013 Edition, Standard for Information Technology\n",
            "       -- Portable Operating System Interface (POSIX),  The  Open  Group  Base\n",
            "       Specifications Issue 7, Copyright (C) 2013 by the Institute of Electri‐\n",
            "       cal and Electronics Engineers,  Inc  and  The  Open  Group.   (This  is\n",
            "       POSIX.1-2008  with  the  2013  Technical Corrigendum 1 applied.) In the\n",
            "       event of any discrepancy between this version and the original IEEE and\n",
            "       The  Open Group Standard, the original IEEE and The Open Group Standard\n",
            "       is the referee document. The original Standard can be  obtained  online\n",
            "       at http://www.unix.org/online.html .\n",
            "\n",
            "       Any  typographical  or  formatting  errors that appear in this page are\n",
            "       most likely to have been introduced during the conversion of the source\n",
            "       files  to  man page format. To report such errors, see https://www.ker‐\n",
            "       nel.org/doc/man-pages/reporting_bugs.html .\n",
            "\n",
            "IEEE/The Open Group                  2013                           LS(1POSIX)\n"
          ]
        }
      ]
    },
    {
      "cell_type": "markdown",
      "metadata": {
        "id": "lLYA7jjpdPvl"
      },
      "source": [
        "Здесь представлено краткое описание, синтаксис, опции данной команды. К сожалению, мануал на английском, но иногда очень полезно узнать о новых возможностях команд. \n",
        "\n",
        "При желании после прохождения урока, можете почитать мануалы по всем командам, которые узнаете."
      ]
    },
    {
      "cell_type": "markdown",
      "metadata": {
        "id": "4dLn2eRZj5TD"
      },
      "source": [
        "Ещё немного узнаем о структуре системы каталогов. Когда мы проверяли командой `ls` что лежит в нашей папке мы на самом деле не знали где мы находимся. Мы по умолчанию находились там, где лежит папка `sample_data` с некоторыми файлами. \n",
        "\n",
        "Хорошо бы понимать, где мы находимся в данный момент, в какой папке и по какому пути.\n",
        "\n",
        "На этот случай в Linux есть команда `pwd`. Она показывает где мы в данный момент нахожимся.\n",
        "\n",
        "Посмотрим:"
      ]
    },
    {
      "cell_type": "code",
      "metadata": {
        "colab": {
          "base_uri": "https://localhost:8080/"
        },
        "id": "b8TGIpV0g7_w",
        "outputId": "30c89991-00a1-49d9-ca53-7322cd59993a"
      },
      "source": [
        "!pwd"
      ],
      "execution_count": null,
      "outputs": [
        {
          "output_type": "stream",
          "name": "stdout",
          "text": [
            "/content\n"
          ]
        }
      ]
    },
    {
      "cell_type": "markdown",
      "metadata": {
        "id": "-Bg_bKXPlbvb"
      },
      "source": [
        "Выяснилось, что мы находимся в каталоге `content`. Но что такое `/` ?.\n",
        "\n",
        "Это так называемый корневой каталог, в котором и находятся все необходимые файлы. Он обозначается прямым слешем - `/`.\n",
        "\n",
        "Мы можем посмотреть что там находится с помощью следующей команды:"
      ]
    },
    {
      "cell_type": "code",
      "metadata": {
        "colab": {
          "base_uri": "https://localhost:8080/"
        },
        "id": "kIV1wy31imih",
        "outputId": "0ac7ab00-0883-41cf-e95b-5796d15cb9f4"
      },
      "source": [
        "!ls /"
      ],
      "execution_count": null,
      "outputs": [
        {
          "output_type": "stream",
          "name": "stdout",
          "text": [
            "bin\t datalab  home\t lib64\topt\t    root  srv\t\t     tmp    var\n",
            "boot\t dev\t  lib\t media\tproc\t    run   sys\t\t     tools\n",
            "content  etc\t  lib32  mnt\tpython-apt  sbin  tensorflow-1.15.2  usr\n"
          ]
        }
      ]
    },
    {
      "cell_type": "markdown",
      "metadata": {
        "id": "stCqKYTVp8BE"
      },
      "source": [
        "\n",
        "Осмотрим некоторые каталоги верхнего уровня:\n",
        "- `bin` - исполняемые файлы\n",
        "- `content` - каталог для данных, его мы уже рассматривали выше\n",
        "- `home` - каталог для файлов пользователей (\"домашний\" каталог)\n",
        "- `root` - домашний каталог для пользователя `root` (аналог Администратора в Linux)\n",
        "- `lib`, `lib32`, `lib64` - библиотеки\n",
        "- `tmp` - каталог для временных файлов\n",
        "- `etc` - каталог с конфигурационными файлами\n",
        "\n",
        "\n",
        "Нам нужно будет загружать файлы данных в каталог `content`.\n",
        "Сожем проверить что лежит в каталоге `bin`."
      ]
    },
    {
      "cell_type": "code",
      "metadata": {
        "colab": {
          "base_uri": "https://localhost:8080/"
        },
        "id": "eEEO6AOxi-gY",
        "outputId": "981f9597-e108-47b3-c38c-4e4f08bf7c1b"
      },
      "source": [
        "!ls /bin"
      ],
      "execution_count": null,
      "outputs": [
        {
          "output_type": "stream",
          "name": "stdout",
          "text": [
            "bash\t       hostname       su\n",
            "bunzip2        journalctl     sync\n",
            "bzcat\t       kill\t      systemctl\n",
            "bzcmp\t       kmod\t      systemd\n",
            "bzdiff\t       less\t      systemd-ask-password\n",
            "bzegrep        lessecho       systemd-escape\n",
            "bzexe\t       lessfile       systemd-hwdb\n",
            "bzfgrep        lesskey\t      systemd-inhibit\n",
            "bzgrep\t       lesspipe       systemd-machine-id-setup\n",
            "bzip2\t       ln\t      systemd-notify\n",
            "bzip2recover   login\t      systemd-sysusers\n",
            "bzless\t       loginctl       systemd-tmpfiles\n",
            "bzmore\t       ls\t      systemd-tty-ask-password-agent\n",
            "cat\t       lsblk\t      tar\n",
            "chgrp\t       lsmod\t      tempfile\n",
            "chmod\t       mkdir\t      touch\n",
            "chown\t       mknod\t      true\n",
            "cp\t       mktemp\t      udevadm\n",
            "dash\t       more\t      ulockmgr_server\n",
            "date\t       mount\t      umount\n",
            "dd\t       mountpoint     uname\n",
            "df\t       mv\t      uncompress\n",
            "dir\t       networkctl     vdir\n",
            "dmesg\t       nisdomainname  wdctl\n",
            "dnsdomainname  pidof\t      which\n",
            "domainname     ps\t      ypdomainname\n",
            "echo\t       pwd\t      zcat\n",
            "egrep\t       rbash\t      zcmp\n",
            "false\t       readlink       zdiff\n",
            "fgrep\t       rm\t      zegrep\n",
            "findmnt        rmdir\t      zfgrep\n",
            "fuser\t       run-parts      zforce\n",
            "fusermount     sed\t      zgrep\n",
            "grep\t       sh\t      zless\n",
            "gunzip\t       sh.distrib     zmore\n",
            "gzexe\t       sleep\t      znew\n",
            "gzip\t       stty\n"
          ]
        }
      ]
    },
    {
      "cell_type": "markdown",
      "metadata": {
        "id": "gWnBcA5ggT9K"
      },
      "source": [
        "Теперь давайте создадим свой каталог и поместим туда некий файл.\n",
        "Создание каталога осуществялется путем введеня команды `mkdir` и в качестве аргумента передаем название нашего каталога.\n",
        "\n",
        "Например, создадим каталог с названием `new_fodler."
      ]
    },
    {
      "cell_type": "code",
      "metadata": {
        "id": "OGpBnk3LWAaf"
      },
      "source": [
        "!mkdir new_folder"
      ],
      "execution_count": null,
      "outputs": []
    },
    {
      "cell_type": "markdown",
      "metadata": {
        "id": "uFos2oa_h-zk"
      },
      "source": [
        "Проверим наличие нового каталога."
      ]
    },
    {
      "cell_type": "code",
      "metadata": {
        "colab": {
          "base_uri": "https://localhost:8080/"
        },
        "id": "fp7nzrfzg7dc",
        "outputId": "795e9abf-5fed-46d5-ae56-bde55da1ad8d"
      },
      "source": [
        "!ls"
      ],
      "execution_count": null,
      "outputs": [
        {
          "output_type": "stream",
          "name": "stdout",
          "text": [
            "new_folder  sample_data\n"
          ]
        }
      ]
    },
    {
      "cell_type": "markdown",
      "metadata": {
        "id": "ZD7YVru0mNei"
      },
      "source": [
        "Теперь перейдем в новый катлог с помощью команды `cd`."
      ]
    },
    {
      "cell_type": "code",
      "metadata": {
        "id": "ycytWaSajmmx"
      },
      "source": [
        "!cd new_folder/"
      ],
      "execution_count": null,
      "outputs": []
    },
    {
      "cell_type": "markdown",
      "metadata": {
        "id": "VwVbw0k-mVde"
      },
      "source": [
        "Првоерим"
      ]
    },
    {
      "cell_type": "code",
      "metadata": {
        "colab": {
          "base_uri": "https://localhost:8080/"
        },
        "id": "DujF9YMLjqra",
        "outputId": "941c7cf3-d3f2-4b87-e1af-fdbe15210cfa"
      },
      "source": [
        "!ls"
      ],
      "execution_count": null,
      "outputs": [
        {
          "output_type": "stream",
          "name": "stdout",
          "text": [
            "new_folder  sample_data\n"
          ]
        }
      ]
    },
    {
      "cell_type": "markdown",
      "metadata": {
        "id": "bFcInMdKmXVT"
      },
      "source": [
        "Все ещё находимся в данном каталоге. Почему?\n",
        "\n",
        "Потому что для того, чтобы перейти в данную директорию недостаточно использовать - `!`. Здесь придется применить **магические функции**. \n",
        "\n",
        "Они начинаются с `%`. \n",
        "\n",
        "Проверим"
      ]
    },
    {
      "cell_type": "code",
      "metadata": {
        "colab": {
          "base_uri": "https://localhost:8080/"
        },
        "id": "NY6ZUTcQmxii",
        "outputId": "53d294fb-bea8-4540-9dd4-8a1c693abb49"
      },
      "source": [
        "%cd new_folder/"
      ],
      "execution_count": null,
      "outputs": [
        {
          "output_type": "stream",
          "name": "stdout",
          "text": [
            "/content/new_folder\n"
          ]
        }
      ]
    },
    {
      "cell_type": "markdown",
      "metadata": {
        "id": "v5ILAalMm0_R"
      },
      "source": [
        "Проверяем"
      ]
    },
    {
      "cell_type": "code",
      "metadata": {
        "id": "pD4v7Vlcm2bJ"
      },
      "source": [
        "!ls"
      ],
      "execution_count": null,
      "outputs": []
    },
    {
      "cell_type": "markdown",
      "metadata": {
        "id": "dd65PyX6m6m7"
      },
      "source": [
        "Теперь видим, что мы перешли в нашу новую директорию `new_folder`, правда здесь пока что нет файла.\n",
        "\n",
        "Давайте его создадим.\n",
        "\n",
        "Для этого нужно:\n",
        "1. В ячейке кода написать то, что Вы хотите записать в файл.\n",
        "2. Записать вверху ячейки команду `%%writefile имя_файла`.\n",
        "3. Проверить содржимое файла с помощью нвоой команды (об этом ниже).\n",
        "\n",
        "Проделаем это."
      ]
    },
    {
      "cell_type": "code",
      "metadata": {
        "colab": {
          "base_uri": "https://localhost:8080/"
        },
        "id": "qvqC_k9LkLYS",
        "outputId": "f3e57433-4890-4750-ef4f-5d6968732017"
      },
      "source": [
        "%%writefile 111.txt \n",
        "#Команда для записи нового файла 111.txt\n",
        "\n",
        "Всем привет.\n",
        "Это наш новый файл.\n",
        "Здесь есть 3 строки.\n",
        "\n",
        "# Выше представлен текст, который будет записан в файл."
      ],
      "execution_count": null,
      "outputs": [
        {
          "output_type": "stream",
          "name": "stdout",
          "text": [
            "Writing 111.txt\n"
          ]
        }
      ]
    },
    {
      "cell_type": "markdown",
      "metadata": {
        "id": "3Jis_tD2obr5"
      },
      "source": [
        "Writing 111.txt - свидетельствует о записи нашего файла"
      ]
    },
    {
      "cell_type": "code",
      "metadata": {
        "colab": {
          "base_uri": "https://localhost:8080/"
        },
        "id": "IYTkKuAeohCM",
        "outputId": "a4c2eb37-b761-41d3-df2c-bd9f6b4c3542"
      },
      "source": [
        "!ls # Проверим есть ли файл."
      ],
      "execution_count": null,
      "outputs": [
        {
          "output_type": "stream",
          "name": "stdout",
          "text": [
            "111.txt\n"
          ]
        }
      ]
    },
    {
      "cell_type": "markdown",
      "metadata": {
        "id": "6_BdNs4iUop2"
      },
      "source": [
        "Стоит упомянуть про ещё одну полезную команду Linux - `cat`. Она позволяет вывести содержимое файла.\n",
        "\n",
        "Проверим на нашем файле 111.txt."
      ]
    },
    {
      "cell_type": "code",
      "metadata": {
        "colab": {
          "base_uri": "https://localhost:8080/"
        },
        "id": "bmc-8FngR-oc",
        "outputId": "ace261a5-6324-4b02-936b-038f65e05707"
      },
      "source": [
        "!cat 111.txt"
      ],
      "execution_count": null,
      "outputs": [
        {
          "output_type": "stream",
          "name": "stdout",
          "text": [
            "#Команда для записи нового файла 111.txt\n",
            "\n",
            "Всем привет.\n",
            "Это наш новый файл.\n",
            "Здесь есть 3 строки.\n",
            "\n",
            "# Выше представлен текст, который будет записан в файл."
          ]
        }
      ]
    },
    {
      "cell_type": "markdown",
      "metadata": {
        "id": "3Nj8uoPCpMQk"
      },
      "source": [
        "Как видно, записались даже наши комментарии.\n",
        "\n",
        "Помимо создание текстовых файлов можно также создавать python-скрипты, которые можно потом запустить тут же, в Colab или скачать себе на локальную машину для дальнейшего использования.\n",
        "\n",
        "Создадим файл `code.py` с некоторыми командами.\n",
        "\n",
        "Сделаем стандартный вывод строки \"Hello, world!\""
      ]
    },
    {
      "cell_type": "code",
      "metadata": {
        "colab": {
          "base_uri": "https://localhost:8080/"
        },
        "id": "Sn4dlQoIkhJR",
        "outputId": "a666c4cf-0ff4-4abb-e030-4c0bd3e73efe"
      },
      "source": [
        "%%writefile code.py\n",
        "\n",
        "print(\"Hello, world!\")"
      ],
      "execution_count": null,
      "outputs": [
        {
          "output_type": "stream",
          "name": "stdout",
          "text": [
            "Writing code.py\n"
          ]
        }
      ]
    },
    {
      "cell_type": "markdown",
      "metadata": {
        "id": "P0kNNTkaubc-"
      },
      "source": [
        "Мы записали наш код в файл code.py. Расширение выбрано специально для обозначения, что это именно скрипт.\n",
        "\n",
        "Теперь мы можем его запустить с помощью команды `%run code.py`"
      ]
    },
    {
      "cell_type": "code",
      "metadata": {
        "colab": {
          "base_uri": "https://localhost:8080/"
        },
        "id": "zVAB0XUdures",
        "outputId": "5f698898-cbd0-4092-bbcb-218d826b1969"
      },
      "source": [
        "%run code.py"
      ],
      "execution_count": null,
      "outputs": [
        {
          "output_type": "stream",
          "name": "stdout",
          "text": [
            "Hello, world!\n"
          ]
        }
      ]
    },
    {
      "cell_type": "markdown",
      "metadata": {
        "id": "8_NQssgNuu0Z"
      },
      "source": [
        "Как видим, у нас вывелась записанная строка."
      ]
    },
    {
      "cell_type": "code",
      "metadata": {
        "colab": {
          "base_uri": "https://localhost:8080/"
        },
        "id": "tabPtJNFwQSZ",
        "outputId": "fce6b24b-46f8-4aaf-ad98-1f2438467d66"
      },
      "source": [
        "%cd /content/ # Вернемся в исходную директорию"
      ],
      "execution_count": null,
      "outputs": [
        {
          "output_type": "stream",
          "name": "stdout",
          "text": [
            "[Errno 2] No such file or directory: '/content/ # Вернемся в исходную директорию'\n",
            "/content\n"
          ]
        }
      ]
    },
    {
      "cell_type": "markdown",
      "metadata": {
        "id": "TnKZNQNJwwBL"
      },
      "source": [
        "# Теперь поговорим о файлах\n",
        "Поговорим о  наиболее распространенных типах файлов для хранения данных в разных формах и кодировках. Также познакомимся со средствами стандартной библиотеки для работы с каталогами и файлами.\n"
      ]
    },
    {
      "cell_type": "markdown",
      "metadata": {
        "id": "U0IqOxImzKGP"
      },
      "source": [
        "Для начала познакомимся с открытием файлов с помощью функции `open`. \n",
        "\n",
        "У неё есть несколько режимов, которые оозначают что мы будем делать с файлом, читать, записывать и т.д.\n",
        "\n",
        "Приводим небольшую таблицу.\n",
        "\n",
        "![alt text](https://drive.google.com/uc?id=1RsVkilFsZZ_CUVu7S7vTNVIdTjwF_rIX)"
      ]
    },
    {
      "cell_type": "code",
      "metadata": {
        "id": "2Q9h4B7kbtmp"
      },
      "source": [
        "# Создадим файл\n",
        "f = open('Hello.txt', 'w') # Открываем файл с именем 'Hello.txt' на запись. Так как такого файла нет, он создается. Для этого файла создаем переменную 'f'. Теперь она представляет наш файл.\n",
        "f.close() # С помощью метода .close() закрываем наш файл f. \n",
        "# Файлы стоит закрывать после работы с ними для избежания возможных нежелательных ошибок."
      ],
      "execution_count": null,
      "outputs": []
    },
    {
      "cell_type": "code",
      "metadata": {
        "id": "MyC5I7sVbtaP",
        "colab": {
          "base_uri": "https://localhost:8080/"
        },
        "outputId": "b984ed72-8631-454f-8483-69595ed9020f"
      },
      "source": [
        "# Проверим, что в директории\n",
        "!ls "
      ],
      "execution_count": null,
      "outputs": [
        {
          "output_type": "stream",
          "name": "stdout",
          "text": [
            "Hello.txt  new_folder  sample_data\n"
          ]
        }
      ]
    },
    {
      "cell_type": "markdown",
      "metadata": {
        "id": "Yf8kDA_s_v1u"
      },
      "source": [
        "Видим, что файл есть в нашей директории. Впредь будем записывать файлы в нашу созданную директорию.\n",
        "\n",
        "Для этого удалим файл из нашей текущей директории и заведем переменную, которая будет отвечать за название нашего файла.\n",
        "\n",
        "Команда для удаления файлов - `rm`.\n",
        "\n",
        "Проверим."
      ]
    },
    {
      "cell_type": "code",
      "metadata": {
        "id": "ubmzFn_rA8ql"
      },
      "source": [
        "!rm Hello.txt # Удаляем файл с именем \"Hello.txt\""
      ],
      "execution_count": null,
      "outputs": []
    },
    {
      "cell_type": "code",
      "metadata": {
        "colab": {
          "base_uri": "https://localhost:8080/"
        },
        "id": "kvAkJ1qIBA7w",
        "outputId": "c7f1ba9e-a010-43e3-a268-f832f00cddaf"
      },
      "source": [
        "!ls #Проверяем, что в нашей директории его нет"
      ],
      "execution_count": null,
      "outputs": [
        {
          "output_type": "stream",
          "name": "stdout",
          "text": [
            "new_folder  sample_data\n"
          ]
        }
      ]
    },
    {
      "cell_type": "code",
      "metadata": {
        "id": "eDFdfi64G54T"
      },
      "source": [
        "filename = 'new_folder/Hello.txt' # Создаем переменную для имени файла, с которым будем работать"
      ],
      "execution_count": null,
      "outputs": []
    },
    {
      "cell_type": "markdown",
      "metadata": {
        "id": "grg0FZKHK8eM"
      },
      "source": [
        "Запишем строку в файл"
      ]
    },
    {
      "cell_type": "code",
      "metadata": {
        "id": "aovaKiaGbtNX"
      },
      "source": [
        "# Допишем некоторую информацию в файл\n",
        "f = open(filename, 'w')\n",
        "f.write('Hello world!') # С помощбю метода .write() запишем строку 'Hello world!' в файл f.\n",
        "f.close()"
      ],
      "execution_count": null,
      "outputs": []
    },
    {
      "cell_type": "markdown",
      "metadata": {
        "id": "-IvQFQE-K-S4"
      },
      "source": [
        "Теперь считаем содержимое файла"
      ]
    },
    {
      "cell_type": "code",
      "metadata": {
        "id": "fyT5lPsZbtAj",
        "colab": {
          "base_uri": "https://localhost:8080/"
        },
        "outputId": "e5897eaa-aeb0-41c8-b64d-8537ba7b5693"
      },
      "source": [
        "# Считаем информацию из файла\n",
        "f = open(filename, 'r') # В качестве имени файла теперь передаем  переменную, куда мы записали имя файла\n",
        "data = f.read() # С помощью метода .read() считываем все данны из файла f и записываем в переменную data.\n",
        "f.close()\n",
        "\n",
        "print(data) # Выводим содержимое переменной data, в которую записали содержимое файла filename"
      ],
      "execution_count": null,
      "outputs": [
        {
          "output_type": "stream",
          "name": "stdout",
          "text": [
            "Hello world!\n"
          ]
        }
      ]
    },
    {
      "cell_type": "markdown",
      "metadata": {
        "id": "V2IwU152LESS"
      },
      "source": [
        "Теперь запишем новые строки в файл"
      ]
    },
    {
      "cell_type": "code",
      "metadata": {
        "id": "4JFQBJP7bs0i"
      },
      "source": [
        "# Перезапишем файл\n",
        "f = open(filename, 'w') # Открыв файл на запись ещё раз, предыдущие данные стираются и запись идет заново\n",
        "for i in range(5): # Создаем цикл из 5 элементов от 0 до 4\n",
        "  f.write(str(i) + '\\n') # Записываем в файл в строку элемент i и с помощью '\\n' записываем перенос строки для того, чтобы следующее значение написать с нвоой строки\n",
        "f.close()"
      ],
      "execution_count": null,
      "outputs": []
    },
    {
      "cell_type": "code",
      "metadata": {
        "id": "G27stJZXbsoL",
        "colab": {
          "base_uri": "https://localhost:8080/"
        },
        "outputId": "a47ec891-1fa1-40b7-fc46-180e6cca2ac9"
      },
      "source": [
        "# Прочитаем файл построчно\n",
        "f = open(filename, 'r') # Открываем файл на чтение\n",
        "for line in f: # Идем по каждой строке с помощью переменной 'line' в файле 'f'.\n",
        "  print(line) # Выводим строки, которые считываем\n",
        "f.close()\n"
      ],
      "execution_count": null,
      "outputs": [
        {
          "output_type": "stream",
          "name": "stdout",
          "text": [
            "0\n",
            "\n",
            "1\n",
            "\n",
            "2\n",
            "\n",
            "3\n",
            "\n",
            "4\n",
            "\n"
          ]
        }
      ]
    },
    {
      "cell_type": "markdown",
      "metadata": {
        "id": "sjGavnKDLLV5"
      },
      "source": [
        "Теперь воспользуемся режим дозаписи - `a` для написания дополнительных строк в конце файла"
      ]
    },
    {
      "cell_type": "code",
      "metadata": {
        "id": "Mbd_uYfobsaN"
      },
      "source": [
        "# Допишем файл\n",
        "f = open(filename, 'a') # Открыли файл на дозапись\n",
        "for i in range(5,11): # Создадим цикл с 5 по 10\n",
        "  f.write(str(i) + '\\n') # Дозапишем в конец файла строки с 5 по 10\n",
        "f.close()"
      ],
      "execution_count": null,
      "outputs": []
    },
    {
      "cell_type": "code",
      "metadata": {
        "id": "jaciRza4br0T"
      },
      "source": [
        "# Дозапишем файл с русскими буквами\n",
        "f = open(filename, 'a') # Откроем файл на дозапись\n",
        "f.write('Привет всем!') # Дозапишем строку \"Привет всем!\" в конец файла\n",
        "f.close()"
      ],
      "execution_count": null,
      "outputs": []
    },
    {
      "cell_type": "code",
      "metadata": {
        "colab": {
          "base_uri": "https://localhost:8080/"
        },
        "id": "HawrR5bQ1VPF",
        "outputId": "57660af3-464a-4550-bf8a-c36e5284db24"
      },
      "source": [
        "# Считаем информацию из файла\n",
        "f = open(filename, 'r') # Откроем файл на чтение\n",
        "data = f.read() # Считываем все содержимое файла в переменную data\n",
        "f.close()\n",
        "\n",
        "print(data)"
      ],
      "execution_count": null,
      "outputs": [
        {
          "output_type": "stream",
          "name": "stdout",
          "text": [
            "0\n",
            "1\n",
            "2\n",
            "3\n",
            "4\n",
            "5\n",
            "6\n",
            "7\n",
            "8\n",
            "9\n",
            "10\n",
            "Привет всем!\n"
          ]
        }
      ]
    },
    {
      "cell_type": "markdown",
      "metadata": {
        "id": "i1Yj_WEq7hkJ"
      },
      "source": [
        "# Кодировки \n",
        "Кодировка это процесс преобразования данных или сигналов из формы, удобной для восприятия, в форму, удобную для хранения, обработки и передачи.\n",
        "\n",
        "Существует несколько типов кодировок. А именно:\n",
        "- UTF-8\n",
        "- cp1251\n",
        "- UTF-16\n",
        "- ASCII\n"
      ]
    },
    {
      "cell_type": "markdown",
      "metadata": {
        "id": "ficu_CG_MvdM"
      },
      "source": [
        "Наиболее распространёнными кодировками с поддержкой Русского языка (с использованием символов Кириллицы) являются: UTF-8, Windows-1251, CP-866, KOI-8R, ISO-8859-5. Стоит отметить что все эти кодировки представляют один символ одним однобайтным числом, кроме кодировки UTF-8 в которой один символ Кириллицы кодируется двухбайтным числом, а значит в кодировке UTF-8 строка русского текста занимает в два раза больше памяти."
      ]
    },
    {
      "cell_type": "code",
      "metadata": {
        "id": "xXT638L-brqw",
        "colab": {
          "base_uri": "https://localhost:8080/"
        },
        "outputId": "3fc31328-4b3b-4897-d6fd-3e9ab59dd6a6"
      },
      "source": [
        "# Читаем в различной кодировке \n",
        "# UTF-8\n",
        "f = open(filename,'r',encoding='utf-8')\n",
        "data=f.read()\n",
        "f.close()\n",
        "print(data)"
      ],
      "execution_count": null,
      "outputs": [
        {
          "output_type": "stream",
          "name": "stdout",
          "text": [
            "0\n",
            "1\n",
            "2\n",
            "3\n",
            "4\n",
            "5\n",
            "6\n",
            "7\n",
            "8\n",
            "9\n",
            "10\n",
            "Привет всем!\n"
          ]
        }
      ]
    },
    {
      "cell_type": "markdown",
      "metadata": {
        "id": "KY_DEWdTNVZH"
      },
      "source": [
        "Эта кодировочная таблица может называться или CP1251 или Windows-1251 Это стандарт кодирования кириллических символов в операционных системах windows с русскоязычным интерфейсом.\n",
        "\n",
        "В современных приложениях отдается предпочтение Юникоду (UTF-8). На 1 апреля 2019 лишь на 1 % всех веб-страниц используется Windows-1251."
      ]
    },
    {
      "cell_type": "code",
      "metadata": {
        "id": "CjAGu3R0breN",
        "colab": {
          "base_uri": "https://localhost:8080/"
        },
        "outputId": "eafcb69f-99bf-47ab-de8d-fb8f9298143b"
      },
      "source": [
        "# cp1251\n",
        "f = open(filename,'r',encoding='cp1251')\n",
        "data=f.read()\n",
        "f.close()\n",
        "print(data)"
      ],
      "execution_count": null,
      "outputs": [
        {
          "output_type": "stream",
          "name": "stdout",
          "text": [
            "0\n",
            "1\n",
            "2\n",
            "3\n",
            "4\n",
            "5\n",
            "6\n",
            "7\n",
            "8\n",
            "9\n",
            "10\n",
            "РџСЂРёРІРµС‚ РІСЃРµРј!\n"
          ]
        }
      ]
    },
    {
      "cell_type": "markdown",
      "metadata": {
        "id": "wOSEatbZN5mj"
      },
      "source": [
        "Так как данная кодировка уже не очень популярна возникают подобного рода проблемы и при осмысленном тексте при чтении получается строка из неизвестных символов."
      ]
    },
    {
      "cell_type": "markdown",
      "metadata": {
        "id": "sIrDfozJOJrk"
      },
      "source": [
        "UTF-16 – стандарт кодирования, преобразующий номера ячеек таблицы Юникод в бинарные коды с использованием переменного количества бит:16 или 32.\n",
        "\n",
        "Коды UTF-8 и UTF-16 используют разные алгоритмы кодирования набора символов UCS."
      ]
    },
    {
      "cell_type": "code",
      "metadata": {
        "id": "KCn3SXTYbqyF",
        "colab": {
          "base_uri": "https://localhost:8080/",
          "height": 388
        },
        "outputId": "dbfe25c9-aa79-4a0e-a704-22affde583d5"
      },
      "source": [
        "# UTF-16\n",
        "f = open(filename,'r',encoding='utf-16')\n",
        "data=f.read()\n",
        "f.close()\n",
        "print(data)"
      ],
      "execution_count": null,
      "outputs": [
        {
          "output_type": "error",
          "ename": "UnicodeDecodeError",
          "evalue": "ignored",
          "traceback": [
            "\u001b[0;31m---------------------------------------------------------------------------\u001b[0m",
            "\u001b[0;31mUnicodeDecodeError\u001b[0m                        Traceback (most recent call last)",
            "\u001b[0;32m<ipython-input-41-d32e0b62da8b>\u001b[0m in \u001b[0;36m<module>\u001b[0;34m()\u001b[0m\n\u001b[1;32m      1\u001b[0m \u001b[0;31m# UTF-16\u001b[0m\u001b[0;34m\u001b[0m\u001b[0;34m\u001b[0m\u001b[0;34m\u001b[0m\u001b[0m\n\u001b[1;32m      2\u001b[0m \u001b[0mf\u001b[0m \u001b[0;34m=\u001b[0m \u001b[0mopen\u001b[0m\u001b[0;34m(\u001b[0m\u001b[0mfilename\u001b[0m\u001b[0;34m,\u001b[0m\u001b[0;34m'r'\u001b[0m\u001b[0;34m,\u001b[0m\u001b[0mencoding\u001b[0m\u001b[0;34m=\u001b[0m\u001b[0;34m'utf-16'\u001b[0m\u001b[0;34m)\u001b[0m\u001b[0;34m\u001b[0m\u001b[0;34m\u001b[0m\u001b[0m\n\u001b[0;32m----> 3\u001b[0;31m \u001b[0mdata\u001b[0m\u001b[0;34m=\u001b[0m\u001b[0mf\u001b[0m\u001b[0;34m.\u001b[0m\u001b[0mread\u001b[0m\u001b[0;34m(\u001b[0m\u001b[0;34m)\u001b[0m\u001b[0;34m\u001b[0m\u001b[0;34m\u001b[0m\u001b[0m\n\u001b[0m\u001b[1;32m      4\u001b[0m \u001b[0mf\u001b[0m\u001b[0;34m.\u001b[0m\u001b[0mclose\u001b[0m\u001b[0;34m(\u001b[0m\u001b[0;34m)\u001b[0m\u001b[0;34m\u001b[0m\u001b[0;34m\u001b[0m\u001b[0m\n\u001b[1;32m      5\u001b[0m \u001b[0mprint\u001b[0m\u001b[0;34m(\u001b[0m\u001b[0mdata\u001b[0m\u001b[0;34m)\u001b[0m\u001b[0;34m\u001b[0m\u001b[0;34m\u001b[0m\u001b[0m\n",
            "\u001b[0;32m/usr/lib/python3.7/codecs.py\u001b[0m in \u001b[0;36mdecode\u001b[0;34m(self, input, final)\u001b[0m\n\u001b[1;32m    320\u001b[0m         \u001b[0;31m# decode input (taking the buffer into account)\u001b[0m\u001b[0;34m\u001b[0m\u001b[0;34m\u001b[0m\u001b[0;34m\u001b[0m\u001b[0m\n\u001b[1;32m    321\u001b[0m         \u001b[0mdata\u001b[0m \u001b[0;34m=\u001b[0m \u001b[0mself\u001b[0m\u001b[0;34m.\u001b[0m\u001b[0mbuffer\u001b[0m \u001b[0;34m+\u001b[0m \u001b[0minput\u001b[0m\u001b[0;34m\u001b[0m\u001b[0;34m\u001b[0m\u001b[0m\n\u001b[0;32m--> 322\u001b[0;31m         \u001b[0;34m(\u001b[0m\u001b[0mresult\u001b[0m\u001b[0;34m,\u001b[0m \u001b[0mconsumed\u001b[0m\u001b[0;34m)\u001b[0m \u001b[0;34m=\u001b[0m \u001b[0mself\u001b[0m\u001b[0;34m.\u001b[0m\u001b[0m_buffer_decode\u001b[0m\u001b[0;34m(\u001b[0m\u001b[0mdata\u001b[0m\u001b[0;34m,\u001b[0m \u001b[0mself\u001b[0m\u001b[0;34m.\u001b[0m\u001b[0merrors\u001b[0m\u001b[0;34m,\u001b[0m \u001b[0mfinal\u001b[0m\u001b[0;34m)\u001b[0m\u001b[0;34m\u001b[0m\u001b[0;34m\u001b[0m\u001b[0m\n\u001b[0m\u001b[1;32m    323\u001b[0m         \u001b[0;31m# keep undecoded input until the next call\u001b[0m\u001b[0;34m\u001b[0m\u001b[0;34m\u001b[0m\u001b[0;34m\u001b[0m\u001b[0m\n\u001b[1;32m    324\u001b[0m         \u001b[0mself\u001b[0m\u001b[0;34m.\u001b[0m\u001b[0mbuffer\u001b[0m \u001b[0;34m=\u001b[0m \u001b[0mdata\u001b[0m\u001b[0;34m[\u001b[0m\u001b[0mconsumed\u001b[0m\u001b[0;34m:\u001b[0m\u001b[0;34m]\u001b[0m\u001b[0;34m\u001b[0m\u001b[0;34m\u001b[0m\u001b[0m\n",
            "\u001b[0;32m/usr/lib/python3.7/encodings/utf_16.py\u001b[0m in \u001b[0;36m_buffer_decode\u001b[0;34m(self, input, errors, final)\u001b[0m\n\u001b[1;32m     59\u001b[0m         \u001b[0;32mif\u001b[0m \u001b[0mself\u001b[0m\u001b[0;34m.\u001b[0m\u001b[0mdecoder\u001b[0m \u001b[0;32mis\u001b[0m \u001b[0;32mNone\u001b[0m\u001b[0;34m:\u001b[0m\u001b[0;34m\u001b[0m\u001b[0;34m\u001b[0m\u001b[0m\n\u001b[1;32m     60\u001b[0m             \u001b[0;34m(\u001b[0m\u001b[0moutput\u001b[0m\u001b[0;34m,\u001b[0m \u001b[0mconsumed\u001b[0m\u001b[0;34m,\u001b[0m \u001b[0mbyteorder\u001b[0m\u001b[0;34m)\u001b[0m \u001b[0;34m=\u001b[0m\u001b[0;31m \u001b[0m\u001b[0;31m\\\u001b[0m\u001b[0;34m\u001b[0m\u001b[0;34m\u001b[0m\u001b[0m\n\u001b[0;32m---> 61\u001b[0;31m                 \u001b[0mcodecs\u001b[0m\u001b[0;34m.\u001b[0m\u001b[0mutf_16_ex_decode\u001b[0m\u001b[0;34m(\u001b[0m\u001b[0minput\u001b[0m\u001b[0;34m,\u001b[0m \u001b[0merrors\u001b[0m\u001b[0;34m,\u001b[0m \u001b[0;36m0\u001b[0m\u001b[0;34m,\u001b[0m \u001b[0mfinal\u001b[0m\u001b[0;34m)\u001b[0m\u001b[0;34m\u001b[0m\u001b[0;34m\u001b[0m\u001b[0m\n\u001b[0m\u001b[1;32m     62\u001b[0m             \u001b[0;32mif\u001b[0m \u001b[0mbyteorder\u001b[0m \u001b[0;34m==\u001b[0m \u001b[0;34m-\u001b[0m\u001b[0;36m1\u001b[0m\u001b[0;34m:\u001b[0m\u001b[0;34m\u001b[0m\u001b[0;34m\u001b[0m\u001b[0m\n\u001b[1;32m     63\u001b[0m                 \u001b[0mself\u001b[0m\u001b[0;34m.\u001b[0m\u001b[0mdecoder\u001b[0m \u001b[0;34m=\u001b[0m \u001b[0mcodecs\u001b[0m\u001b[0;34m.\u001b[0m\u001b[0mutf_16_le_decode\u001b[0m\u001b[0;34m\u001b[0m\u001b[0;34m\u001b[0m\u001b[0m\n",
            "\u001b[0;31mUnicodeDecodeError\u001b[0m: 'utf-16-le' codec can't decode byte 0x21 in position 44: truncated data"
          ]
        }
      ]
    },
    {
      "cell_type": "markdown",
      "metadata": {
        "id": "cT5f9SGyOyrr"
      },
      "source": [
        "В данном случае у нас возникает ошибка о том, что UTF-16 не может декодировать один из символов, поэтому хоть такая кодировка есть, но очень специфична и её использовать не стоит, также как и следующую."
      ]
    },
    {
      "cell_type": "markdown",
      "metadata": {
        "id": "vbshsscHPhUx"
      },
      "source": [
        "ASCII (англ. American standard code for information interchange) — название таблицы (кодировки, набора), в которой некоторым распространённым печатным и непечатным символам сопоставлены числовые коды. \n",
        "Таблица ASCII определяет коды для символов:\n",
        "\n",
        "- десятичных цифр;\n",
        "- латинского алфавита;\n",
        "- национального алфавита;\n",
        "- знаков препинания;\n",
        "- управляющих символов."
      ]
    },
    {
      "cell_type": "markdown",
      "metadata": {
        "id": "wIy40Tx2QXZ-"
      },
      "source": [
        "![asc.png](data:image/png;base64,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)"
      ]
    },
    {
      "cell_type": "code",
      "metadata": {
        "id": "mSha-7d1bpdW",
        "colab": {
          "base_uri": "https://localhost:8080/",
          "height": 364
        },
        "outputId": "e2231bb5-a682-49ef-e78d-ae9711e3dc2c"
      },
      "source": [
        "# ASCII\n",
        "f = open(filename,'r',encoding='ASCII')\n",
        "data=f.read()\n",
        "f.close()\n",
        "print(data)"
      ],
      "execution_count": null,
      "outputs": [
        {
          "output_type": "error",
          "ename": "UnicodeDecodeError",
          "evalue": "ignored",
          "traceback": [
            "\u001b[0;31m---------------------------------------------------------------------------\u001b[0m",
            "\u001b[0;31mUnicodeDecodeError\u001b[0m                        Traceback (most recent call last)",
            "\u001b[0;32m<ipython-input-42-5204f67970fe>\u001b[0m in \u001b[0;36m<module>\u001b[0;34m()\u001b[0m\n\u001b[1;32m      1\u001b[0m \u001b[0;31m# ASCII\u001b[0m\u001b[0;34m\u001b[0m\u001b[0;34m\u001b[0m\u001b[0;34m\u001b[0m\u001b[0m\n\u001b[1;32m      2\u001b[0m \u001b[0mf\u001b[0m \u001b[0;34m=\u001b[0m \u001b[0mopen\u001b[0m\u001b[0;34m(\u001b[0m\u001b[0mfilename\u001b[0m\u001b[0;34m,\u001b[0m\u001b[0;34m'r'\u001b[0m\u001b[0;34m,\u001b[0m\u001b[0mencoding\u001b[0m\u001b[0;34m=\u001b[0m\u001b[0;34m'ASCII'\u001b[0m\u001b[0;34m)\u001b[0m\u001b[0;34m\u001b[0m\u001b[0;34m\u001b[0m\u001b[0m\n\u001b[0;32m----> 3\u001b[0;31m \u001b[0mdata\u001b[0m\u001b[0;34m=\u001b[0m\u001b[0mf\u001b[0m\u001b[0;34m.\u001b[0m\u001b[0mread\u001b[0m\u001b[0;34m(\u001b[0m\u001b[0;34m)\u001b[0m\u001b[0;34m\u001b[0m\u001b[0;34m\u001b[0m\u001b[0m\n\u001b[0m\u001b[1;32m      4\u001b[0m \u001b[0mf\u001b[0m\u001b[0;34m.\u001b[0m\u001b[0mclose\u001b[0m\u001b[0;34m(\u001b[0m\u001b[0;34m)\u001b[0m\u001b[0;34m\u001b[0m\u001b[0;34m\u001b[0m\u001b[0m\n\u001b[1;32m      5\u001b[0m \u001b[0mprint\u001b[0m\u001b[0;34m(\u001b[0m\u001b[0mdata\u001b[0m\u001b[0;34m)\u001b[0m\u001b[0;34m\u001b[0m\u001b[0;34m\u001b[0m\u001b[0m\n",
            "\u001b[0;32m/usr/lib/python3.7/encodings/ascii.py\u001b[0m in \u001b[0;36mdecode\u001b[0;34m(self, input, final)\u001b[0m\n\u001b[1;32m     24\u001b[0m \u001b[0;32mclass\u001b[0m \u001b[0mIncrementalDecoder\u001b[0m\u001b[0;34m(\u001b[0m\u001b[0mcodecs\u001b[0m\u001b[0;34m.\u001b[0m\u001b[0mIncrementalDecoder\u001b[0m\u001b[0;34m)\u001b[0m\u001b[0;34m:\u001b[0m\u001b[0;34m\u001b[0m\u001b[0;34m\u001b[0m\u001b[0m\n\u001b[1;32m     25\u001b[0m     \u001b[0;32mdef\u001b[0m \u001b[0mdecode\u001b[0m\u001b[0;34m(\u001b[0m\u001b[0mself\u001b[0m\u001b[0;34m,\u001b[0m \u001b[0minput\u001b[0m\u001b[0;34m,\u001b[0m \u001b[0mfinal\u001b[0m\u001b[0;34m=\u001b[0m\u001b[0;32mFalse\u001b[0m\u001b[0;34m)\u001b[0m\u001b[0;34m:\u001b[0m\u001b[0;34m\u001b[0m\u001b[0;34m\u001b[0m\u001b[0m\n\u001b[0;32m---> 26\u001b[0;31m         \u001b[0;32mreturn\u001b[0m \u001b[0mcodecs\u001b[0m\u001b[0;34m.\u001b[0m\u001b[0mascii_decode\u001b[0m\u001b[0;34m(\u001b[0m\u001b[0minput\u001b[0m\u001b[0;34m,\u001b[0m \u001b[0mself\u001b[0m\u001b[0;34m.\u001b[0m\u001b[0merrors\u001b[0m\u001b[0;34m)\u001b[0m\u001b[0;34m[\u001b[0m\u001b[0;36m0\u001b[0m\u001b[0;34m]\u001b[0m\u001b[0;34m\u001b[0m\u001b[0;34m\u001b[0m\u001b[0m\n\u001b[0m\u001b[1;32m     27\u001b[0m \u001b[0;34m\u001b[0m\u001b[0m\n\u001b[1;32m     28\u001b[0m \u001b[0;32mclass\u001b[0m \u001b[0mStreamWriter\u001b[0m\u001b[0;34m(\u001b[0m\u001b[0mCodec\u001b[0m\u001b[0;34m,\u001b[0m\u001b[0mcodecs\u001b[0m\u001b[0;34m.\u001b[0m\u001b[0mStreamWriter\u001b[0m\u001b[0;34m)\u001b[0m\u001b[0;34m:\u001b[0m\u001b[0;34m\u001b[0m\u001b[0;34m\u001b[0m\u001b[0m\n",
            "\u001b[0;31mUnicodeDecodeError\u001b[0m: 'ascii' codec can't decode byte 0xd0 in position 23: ordinal not in range(128)"
          ]
        }
      ]
    },
    {
      "cell_type": "markdown",
      "metadata": {
        "id": "zqZ5KGnCRWWb"
      },
      "source": [
        "Таким образом, мы видим, что среди всех кодировок правильно и без ошибок считала только кодировка UTF-8. Она на данный момент является самой популярной и предпочтительной для работы, пожтому лучше использовать её, хотя иногда приходится прибегать и к другим кодировкам, таким как cp1251, но такие случаи скорее становятся исклчючением, чем общепринятой практикой."
      ]
    },
    {
      "cell_type": "markdown",
      "metadata": {
        "id": "rnlMm0VjSVdz"
      },
      "source": [
        "Тем не менее мы можем при создании файла отдельно указывать какую кодировку использовать при создании файла. Например, создадим файл `Hello_UTF16.txt` с кодировкой **UTF-16**."
      ]
    },
    {
      "cell_type": "code",
      "metadata": {
        "id": "yWwMkEqv_zsi",
        "colab": {
          "base_uri": "https://localhost:8080/"
        },
        "outputId": "83a105e0-6f1c-4777-bde9-82ed934d2d38"
      },
      "source": [
        "# Перезапись файла в нужной\n",
        "f = open(filename,'r',encoding='utf-8') # Считываем данные из файла с кодировкой UTF-8\n",
        "data=f.read() # Считываем в переменную data\n",
        "f.close()\n",
        "\n",
        "f_utf16 = open('new_folder/Hello_UTF16.txt','w',encoding='utf-16') # Создаем новый файл и записываем ранее считанные данные с кодировкой UTF-16\n",
        "f_utf16.write(data) # Записываем данные из data\n",
        "f.close()\n",
        "\n",
        "f = open('new_folder/Hello_UTF16.txt','r',encoding='utf-16') # Открываем файл с кодировкой UTF-16\n",
        "data=f.read() # Считываем данные\n",
        "f.close()\n",
        "print(data) # Выводим данные из файла"
      ],
      "execution_count": null,
      "outputs": [
        {
          "output_type": "stream",
          "name": "stdout",
          "text": [
            "\n"
          ]
        }
      ]
    },
    {
      "cell_type": "markdown",
      "metadata": {
        "id": "PoB5hoA_UEKl"
      },
      "source": [
        "Как мы видим теперь никаких проблем, ошибок или непонятных символов нет."
      ]
    },
    {
      "cell_type": "markdown",
      "metadata": {
        "id": "_NWc7eSE7sBa"
      },
      "source": [
        "# JSON\n",
        "\n",
        "JSON (JavaScript Object Notation) - простой формат обмена данными, основанный на подмножестве синтаксиса JavaScript. Модуль json позволяет кодировать и декодировать данные в удобном формате."
      ]
    },
    {
      "cell_type": "code",
      "metadata": {
        "colab": {
          "base_uri": "https://localhost:8080/"
        },
        "id": "ba7ArRrt7t5q",
        "outputId": "9303fa49-df02-45dd-c409-9d3d7e0f523b"
      },
      "source": [
        "import json # Импортируем модуль для работы с json\n",
        "\n",
        "obj = {'one':123, 'two':[1,2,3,]}\n",
        "data = json.dumps(obj) # сериасериализует obj в строку JSON-формата.лизует obj в строку JSON-формата.\n",
        "print(type(data)) # Выводим тип данных\n",
        "print(data) # Выводим содержимое data\n",
        "\n",
        "with open('new_folder/data.json', 'w') as f: # Используем новую конструкцию для открытия файла. Такая конструкция гарантирует, что файл будет закрыт вне зависимости от того, что введёт пользователь.\n",
        "  f.write(data) # Записываем в файл данные data. Обратите внимание на формат нашего файла. Теперь он имеет формат json.\n",
        "\n",
        "with open('new_folder/data.json','r') as f: # Открываем файл на чтение\n",
        "  new_data = f.read() # Считываем все данные в new_data\n",
        "print(new_data)\n",
        "\n",
        "new_data = json.loads(new_data) # десериализует JSON из new_data\n",
        "print(type(new_data)) # После считывания данных через .loads() посмотрим какой тип данных имеет new_data. (Это теперь словарь с ключами типа 'one', 'two', так как изначально был словарь)\n",
        "print(new_data.keys()) # Посмотри какие у нас ключи\n",
        "print(new_data['two']) # Выведем данные"
      ],
      "execution_count": null,
      "outputs": [
        {
          "output_type": "stream",
          "name": "stdout",
          "text": [
            "<class 'str'>\n",
            "{\"one\": 123, \"two\": [1, 2, 3]}\n",
            "{\"one\": 123, \"two\": [1, 2, 3]}\n",
            "<class 'dict'>\n",
            "dict_keys(['one', 'two'])\n",
            "[1, 2, 3]\n"
          ]
        }
      ]
    },
    {
      "cell_type": "markdown",
      "metadata": {
        "id": "a2Ktc2Fj7yhm"
      },
      "source": [
        "# Pickle\n",
        "\n",
        "Модуль pickle реализует мощный алгоритм сериализации и десериализации объектов Python. \"Pickling\" - процесс преобразования объекта Python в поток байтов, а \"unpickling\" - обратная операция, в результате которой поток байтов преобразуется обратно в Python-объект. Так как поток байтов легко можно записать в файл, модуль pickle широко применяется для сохранения и загрузки сложных объектов в Python.\n",
        "\n"
      ]
    },
    {
      "cell_type": "code",
      "metadata": {
        "id": "MBLdv4Vn5elu"
      },
      "source": [
        "# Подключаем модуль pickle\n",
        "import pickle\n",
        "obj = {'one':123, 'two':[1,2,3,]} # Используем тот же словарь для показа\n",
        "\n",
        "with open('new_folder/data.pkl', 'wb') as f: # Откроем файл на запись\n",
        "  pickle.dump(obj, f, 2) # Записывает сериализованный объект в файл.\n"
      ],
      "execution_count": null,
      "outputs": []
    },
    {
      "cell_type": "code",
      "metadata": {
        "id": "sDuTUWFNGSRw",
        "colab": {
          "base_uri": "https://localhost:8080/"
        },
        "outputId": "aa6d950a-0f17-40eb-ccfa-9d26e9637171"
      },
      "source": [
        "!ls new_folder # Проверим какие теперь файлы есть в нашей директории"
      ],
      "execution_count": null,
      "outputs": [
        {
          "output_type": "stream",
          "name": "stdout",
          "text": [
            "111.txt  code.py  data.json  data.pkl  Hello.txt  Hello_UTF16.txt\n"
          ]
        }
      ]
    },
    {
      "cell_type": "code",
      "metadata": {
        "id": "STJA_6IpHqGx",
        "colab": {
          "base_uri": "https://localhost:8080/"
        },
        "outputId": "290c14b3-6024-4b90-8716-b1dc47af4f2e"
      },
      "source": [
        "# Считаем информацию из файла\n",
        "with open('new_folder/data.pkl','rb') as f: # Откроем файл на чтение\n",
        "  data=f.read() # Снова считываем данные из файла\n",
        "  new_obj=pickle.loads(data) # загружает объект из потока байт.\n",
        "print(type(new_obj)) \n",
        "print(new_obj)"
      ],
      "execution_count": null,
      "outputs": [
        {
          "output_type": "stream",
          "name": "stdout",
          "text": [
            "<class 'dict'>\n",
            "{'one': 123, 'two': [1, 2, 3]}\n"
          ]
        }
      ]
    },
    {
      "cell_type": "markdown",
      "metadata": {
        "id": "_U2keluP72vf"
      },
      "source": [
        "# Работа с файловой системой\n",
        "\n",
        "\n",
        "Модуль os предоставляет множество функций для работы с операционной системой, причём их поведение, как правило, не зависит от ОС, поэтому программы остаются переносимыми.\n",
        "\n",
        "Приведем несколько полезных команд os."
      ]
    },
    {
      "cell_type": "code",
      "metadata": {
        "id": "Ot7gbXC9hicO"
      },
      "source": [
        "# Подключение модуля\n",
        "import os"
      ],
      "execution_count": null,
      "outputs": []
    },
    {
      "cell_type": "code",
      "metadata": {
        "id": "iLvFh7smS3OF",
        "colab": {
          "base_uri": "https://localhost:8080/",
          "height": 36
        },
        "outputId": "2a23aab9-039d-42fd-e25a-063b72c394e2"
      },
      "source": [
        "# Просмотр текущего каталога \n",
        "os.getcwd() # Аналог команды 'pwd' "
      ],
      "execution_count": null,
      "outputs": [
        {
          "output_type": "execute_result",
          "data": {
            "application/vnd.google.colaboratory.intrinsic+json": {
              "type": "string"
            },
            "text/plain": [
              "'/content'"
            ]
          },
          "metadata": {},
          "execution_count": 49
        }
      ]
    },
    {
      "cell_type": "code",
      "metadata": {
        "id": "LLHOpLliSuTo",
        "colab": {
          "base_uri": "https://localhost:8080/"
        },
        "outputId": "0bcf3d52-1705-4363-c068-2bb506846805"
      },
      "source": [
        "# Проверка наличия файла в рабочем каталоге\n",
        "os.path.exists('new_folder/data.json')"
      ],
      "execution_count": null,
      "outputs": [
        {
          "output_type": "execute_result",
          "data": {
            "text/plain": [
              "True"
            ]
          },
          "metadata": {},
          "execution_count": 50
        }
      ]
    },
    {
      "cell_type": "code",
      "metadata": {
        "id": "utndvhNhZUJO",
        "colab": {
          "base_uri": "https://localhost:8080/"
        },
        "outputId": "2270d311-5357-4c59-804a-dbf8502a0058"
      },
      "source": [
        "# Размер файла\n",
        "os.path.getsize('new_folder/data.json')"
      ],
      "execution_count": null,
      "outputs": [
        {
          "output_type": "execute_result",
          "data": {
            "text/plain": [
              "30"
            ]
          },
          "metadata": {},
          "execution_count": 51
        }
      ]
    },
    {
      "cell_type": "code",
      "metadata": {
        "colab": {
          "base_uri": "https://localhost:8080/"
        },
        "id": "c9B9s58xa0iC",
        "outputId": "49971a67-da78-47fc-db33-4071079a5a67"
      },
      "source": [
        "!ls"
      ],
      "execution_count": null,
      "outputs": [
        {
          "output_type": "stream",
          "name": "stdout",
          "text": [
            "new_folder  sample_data\n"
          ]
        }
      ]
    },
    {
      "cell_type": "code",
      "metadata": {
        "id": "rr4noYJyTJQ7",
        "colab": {
          "base_uri": "https://localhost:8080/"
        },
        "outputId": "2212d8d6-a636-4eff-ed95-8a1d56ffe488"
      },
      "source": [
        "# Вывод файлов и подкаталогов для данного каталога\n",
        "print(os.listdir()) # Выводим все каталоги в данной директории\n",
        "print(os.listdir('new_folder')) # Выводим все подкаталоги 'new_folder'"
      ],
      "execution_count": null,
      "outputs": [
        {
          "output_type": "stream",
          "name": "stdout",
          "text": [
            "['.config', 'new_folder', 'sample_data']\n",
            "['data.json', 'data.pkl', 'Hello.txt', '111.txt', 'code.py', 'Hello_UTF16.txt']\n"
          ]
        }
      ]
    },
    {
      "cell_type": "code",
      "metadata": {
        "id": "S-YKUmhQdnWN"
      },
      "source": [
        "# Обход методом os.walk\n",
        "tree = os.walk(os.getcwd()) # Передаем каталог `/content`"
      ],
      "execution_count": null,
      "outputs": []
    },
    {
      "cell_type": "markdown",
      "metadata": {
        "id": "MsgQnMSadew4"
      },
      "source": [
        "Функция walk() модуля os принимает один обязательный аргумент - имя каталога.\n",
        "\n",
        "Возвращает объект-генератор, из которого получают кортежи для каждого каталога переданной файловой иерархии.\n",
        "\n",
        "Каждый кортеж состоит из трех элементов:\n",
        "\n",
        "1. Адрес очередного каталога в виде строки.\n",
        "2. В форме списка имена подкаталогов первого уровня вложенности для данного каталога.\n",
        "3. В виде списка имена файлов данного каталога."
      ]
    },
    {
      "cell_type": "code",
      "metadata": {
        "id": "7jOqnsh1VKvY",
        "colab": {
          "base_uri": "https://localhost:8080/"
        },
        "outputId": "339e2f63-9f76-4ae3-8d7b-062f5a4accf3"
      },
      "source": [
        "# tree = (Название каталога, Список подкаталогов, Список файлов)\n",
        "for i in tree: # Идем по всему каталогу\n",
        "  print(i) # Выводим путь, подкаталоги, все файлы"
      ],
      "execution_count": null,
      "outputs": [
        {
          "output_type": "stream",
          "name": "stdout",
          "text": [
            "('/content', ['.config', 'new_folder', 'sample_data'], [])\n",
            "('/content/.config', ['logs', 'configurations'], ['.last_update_check.json', '.last_survey_prompt.yaml', 'active_config', 'gce', '.last_opt_in_prompt.yaml', 'config_sentinel'])\n",
            "('/content/.config/logs', ['2021.10.08'], [])\n",
            "('/content/.config/logs/2021.10.08', [], ['13.45.09.534390.log', '13.44.50.952139.log', '13.44.44.548229.log', '13.44.08.162145.log', '13.45.08.864173.log', '13.44.27.879250.log'])\n",
            "('/content/.config/configurations', [], ['config_default'])\n",
            "('/content/new_folder', [], ['data.json', 'data.pkl', 'Hello.txt', '111.txt', 'code.py', 'Hello_UTF16.txt'])\n",
            "('/content/sample_data', [], ['README.md', 'anscombe.json', 'california_housing_train.csv', 'mnist_test.csv', 'mnist_train_small.csv', 'california_housing_test.csv'])\n"
          ]
        }
      ]
    },
    {
      "cell_type": "code",
      "metadata": {
        "id": "HzCkv7y-Whxe",
        "colab": {
          "base_uri": "https://localhost:8080/"
        },
        "outputId": "5799435e-eb77-4580-86f8-871398c0b6b5"
      },
      "source": [
        "# Просмотр путей всех файлов \n",
        "tree = os.walk(os.getcwd())\n",
        "for address, dirs, files in tree: # Указываем 3 параметра для 3 элементов tree\n",
        "  for file in files: # Идем по всем файлам в списке имен файлов каталога\n",
        "    print(address + '/' + file) # Выводим адрес нашего каталога и через \"/\" все имеющиеся файлы "
      ],
      "execution_count": null,
      "outputs": [
        {
          "output_type": "stream",
          "name": "stdout",
          "text": [
            "/content/.config/.last_update_check.json\n",
            "/content/.config/.last_survey_prompt.yaml\n",
            "/content/.config/active_config\n",
            "/content/.config/gce\n",
            "/content/.config/.last_opt_in_prompt.yaml\n",
            "/content/.config/config_sentinel\n",
            "/content/.config/logs/2021.10.08/13.45.09.534390.log\n",
            "/content/.config/logs/2021.10.08/13.44.50.952139.log\n",
            "/content/.config/logs/2021.10.08/13.44.44.548229.log\n",
            "/content/.config/logs/2021.10.08/13.44.08.162145.log\n",
            "/content/.config/logs/2021.10.08/13.45.08.864173.log\n",
            "/content/.config/logs/2021.10.08/13.44.27.879250.log\n",
            "/content/.config/configurations/config_default\n",
            "/content/new_folder/data.json\n",
            "/content/new_folder/data.pkl\n",
            "/content/new_folder/Hello.txt\n",
            "/content/new_folder/111.txt\n",
            "/content/new_folder/code.py\n",
            "/content/new_folder/Hello_UTF16.txt\n",
            "/content/sample_data/README.md\n",
            "/content/sample_data/anscombe.json\n",
            "/content/sample_data/california_housing_train.csv\n",
            "/content/sample_data/mnist_test.csv\n",
            "/content/sample_data/mnist_train_small.csv\n",
            "/content/sample_data/california_housing_test.csv\n"
          ]
        }
      ]
    },
    {
      "cell_type": "code",
      "metadata": {
        "id": "OhJELK26X3gJ",
        "colab": {
          "base_uri": "https://localhost:8080/"
        },
        "outputId": "f932dfba-07f0-4f96-8217-3e73dad9ff25"
      },
      "source": [
        "# Создание директории с поддиректориями\n",
        "os.makedirs('Fld1/Fld2/Fld3') # Аналог mkdir в Linux. Можем также сразу создавать несколько подкаталогов, передав путь через '/'.\n",
        "!ls # Проверяем"
      ],
      "execution_count": null,
      "outputs": [
        {
          "output_type": "stream",
          "name": "stdout",
          "text": [
            "Fld1  new_folder  sample_data\n"
          ]
        }
      ]
    },
    {
      "cell_type": "code",
      "metadata": {
        "id": "sRJbnt0uYjRV",
        "colab": {
          "base_uri": "https://localhost:8080/"
        },
        "outputId": "eb87c388-7fbe-4162-c1d6-05e8f3e8a4da"
      },
      "source": [
        "# Удаление директории\n",
        "os.removedirs('Fld1/Fld2/Fld3') # Аналог rmdir в Linux.\n",
        "!ls # Проверка"
      ],
      "execution_count": null,
      "outputs": [
        {
          "output_type": "stream",
          "name": "stdout",
          "text": [
            "new_folder  sample_data\n"
          ]
        }
      ]
    },
    {
      "cell_type": "code",
      "metadata": {
        "id": "rkAjLn0EZfWc",
        "colab": {
          "base_uri": "https://localhost:8080/",
          "height": 36
        },
        "outputId": "76c6b0e1-fe96-494b-b372-fd52331eef89"
      },
      "source": [
        "# Корректное формирование пути с учетом операционной системы\n",
        "os.path.join('Fld1','Fld2','Fld3') # Переносим в катлог 'Fld1' каталог 'Fld2', а в него каталог 'Fld3'."
      ],
      "execution_count": null,
      "outputs": [
        {
          "output_type": "execute_result",
          "data": {
            "application/vnd.google.colaboratory.intrinsic+json": {
              "type": "string"
            },
            "text/plain": [
              "'Fld1/Fld2/Fld3'"
            ]
          },
          "metadata": {},
          "execution_count": 59
        }
      ]
    },
    {
      "cell_type": "code",
      "metadata": {
        "colab": {
          "base_uri": "https://localhost:8080/"
        },
        "id": "-9dL8H-maWj6",
        "outputId": "7eb0f70e-18e2-4fd9-f0e3-bdfaa0b13c9d"
      },
      "source": [
        "!ls"
      ],
      "execution_count": null,
      "outputs": [
        {
          "output_type": "stream",
          "name": "stdout",
          "text": [
            "new_folder  sample_data\n"
          ]
        }
      ]
    },
    {
      "cell_type": "code",
      "metadata": {
        "id": "o56wJeOYhnBa"
      },
      "source": [],
      "execution_count": null,
      "outputs": []
    },
    {
      "cell_type": "markdown",
      "metadata": {
        "id": "8vICdKs7fwXN"
      },
      "source": [
        "# Время и дата"
      ]
    },
    {
      "cell_type": "code",
      "metadata": {
        "id": "5koc23gcyyri",
        "colab": {
          "base_uri": "https://localhost:8080/"
        },
        "outputId": "0b448c98-4bd8-42ca-801f-ebae11dbc1dd"
      },
      "source": [
        "import datetime # Импортируем библиотеку для работы с датой \n",
        "import time # Импортируем библиотеку для работы с временем\n",
        "\n",
        "# Получение времени\n",
        "print(datetime.datetime.now())\n",
        "print(datetime.datetime.utcnow())"
      ],
      "execution_count": null,
      "outputs": [
        {
          "output_type": "stream",
          "name": "stdout",
          "text": [
            "2021-10-20 09:06:25.315363\n",
            "2021-10-20 09:06:25.315903\n"
          ]
        }
      ]
    },
    {
      "cell_type": "code",
      "metadata": {
        "id": "tJElj3-TzQHu",
        "colab": {
          "base_uri": "https://localhost:8080/"
        },
        "outputId": "fe436e9c-977d-4da0-b1d0-8efd8033738e"
      },
      "source": [
        "# Работа с датой\n",
        "d = datetime.date(2020,12,31) # Выводим дату 31.12.2020\n",
        "# Выводим отдельно дату, год, месяц и день\n",
        "print(d)\n",
        "print(d.year)\n",
        "print(d.month)\n",
        "print(d.day)"
      ],
      "execution_count": null,
      "outputs": [
        {
          "output_type": "stream",
          "name": "stdout",
          "text": [
            "2020-12-31\n",
            "2020\n",
            "12\n",
            "31\n"
          ]
        }
      ]
    },
    {
      "cell_type": "code",
      "metadata": {
        "id": "VF-cwzbazjoO",
        "colab": {
          "base_uri": "https://localhost:8080/"
        },
        "outputId": "37b4e0bc-35f5-4f35-e5ac-1b5e4edceff8"
      },
      "source": [
        "# Работа с датой и временем\n",
        "d = datetime.datetime(2020,12,31,12,30,40) # Также работаем с датой, но дополнительно прописываем часы, минуты и секунды\n",
        "# Выводим год, месяц, день, час, минуты и секунды\n",
        "print(d)\n",
        "print(d.year)\n",
        "print(d.month)\n",
        "print(d.day)\n",
        "print(d.hour)\n",
        "print(d.minute)\n",
        "print(d.second)"
      ],
      "execution_count": null,
      "outputs": [
        {
          "output_type": "stream",
          "name": "stdout",
          "text": [
            "2020-12-31 12:30:40\n",
            "2020\n",
            "12\n",
            "31\n",
            "12\n",
            "30\n",
            "40\n"
          ]
        }
      ]
    },
    {
      "cell_type": "code",
      "metadata": {
        "id": "XyywwMvYzyYG",
        "colab": {
          "base_uri": "https://localhost:8080/"
        },
        "outputId": "d7783ad9-afda-4d6a-de28-1c7445f6a6ae"
      },
      "source": [
        "# Формат вывода\n",
        "today = datetime.datetime.today() # Выводим дату сегодняшнего дня\n",
        "print(today.strftime(\"%m/%d/%Y\")) # Форматированно выведем месяц %m, день %d, год %Y\n",
        "print(today.strftime(\"%m-%d-%Y-%H:%M:%S\")) # Форматированно выведем месяц %m, день %d, год %Y, час %H, минуты %M, секунды %S"
      ],
      "execution_count": null,
      "outputs": [
        {
          "output_type": "stream",
          "name": "stdout",
          "text": [
            "10/20/2021\n",
            "10-20-2021-09:08:39\n"
          ]
        }
      ]
    },
    {
      "cell_type": "code",
      "metadata": {
        "id": "K_vho0LG0RBb",
        "colab": {
          "base_uri": "https://localhost:8080/"
        },
        "outputId": "988f196b-2f98-434a-b68e-9ab212026c4d"
      },
      "source": [
        "# Начало Unix эпохи\n",
        "print(time.gmtime(0))"
      ],
      "execution_count": null,
      "outputs": [
        {
          "output_type": "stream",
          "name": "stdout",
          "text": [
            "time.struct_time(tm_year=1970, tm_mon=1, tm_mday=1, tm_hour=0, tm_min=0, tm_sec=0, tm_wday=3, tm_yday=1, tm_isdst=0)\n"
          ]
        }
      ]
    },
    {
      "cell_type": "code",
      "metadata": {
        "id": "ltLMHNy20okt",
        "colab": {
          "base_uri": "https://localhost:8080/"
        },
        "outputId": "b7e6621b-14be-441c-93d0-5cd5209c07b6"
      },
      "source": [
        "# Перевод времени из Unix\n",
        "print(time.time())\n",
        "print(time.ctime(time.time())) # Выведем в более удобный формат"
      ],
      "execution_count": null,
      "outputs": [
        {
          "output_type": "stream",
          "name": "stdout",
          "text": [
            "1634721022.7147624\n",
            "Wed Oct 20 09:10:22 2021\n"
          ]
        }
      ]
    },
    {
      "cell_type": "code",
      "metadata": {
        "id": "KdCaCbRD08JG",
        "colab": {
          "base_uri": "https://localhost:8080/",
          "height": 108
        },
        "outputId": "82cb8226-7c62-4a10-f8e3-dd976280aeb6"
      },
      "source": [
        "# Отсрочка исполнения\n",
        "for x in range(5):\n",
        "  time.sleep(2) # Метод .sleep() позволяет \n",
        "  print('Прошло 2 сек')"
      ],
      "execution_count": null,
      "outputs": [
        {
          "output_type": "stream",
          "text": [
            "Прошло 2 сек\n",
            "Прошло 2 сек\n",
            "Прошло 2 сек\n",
            "Прошло 2 сек\n",
            "Прошло 2 сек\n"
          ],
          "name": "stdout"
        }
      ]
    },
    {
      "cell_type": "markdown",
      "metadata": {
        "id": "xisV-fHMwegW"
      },
      "source": [
        "# Дополнительные материалы"
      ]
    },
    {
      "cell_type": "markdown",
      "metadata": {
        "id": "8s0UMWMyw_PL"
      },
      "source": [
        "\n",
        "*   Саммерфилд М., Программирование на Python 3. Подробное руководство. - Пер. с англ. - СПб.: Символ-Плюс, 2009. - 608 с, ил., ISBN: 978-5-93286-161-5 С. 334.\n",
        "\n",
        "*   https://habr.com/ru/company/selectel/blog/547290/\n",
        "\n",
        "*   https://www.helloworld.ru/texts/comp/os/linux/linux/1.htm\n"
      ]
    },
    {
      "cell_type": "code",
      "metadata": {
        "id": "Mk3GMF9zwheK"
      },
      "source": [],
      "execution_count": null,
      "outputs": []
    }
  ]
}